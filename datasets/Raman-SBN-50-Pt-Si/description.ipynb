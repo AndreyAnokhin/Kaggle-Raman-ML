{
 "cells": [
  {
   "cell_type": "markdown",
   "metadata": {},
   "source": [
    "#### Набор данных состоит из спектров одного и того же вещества, записанных при различных температурах.\n",
    "#### Необходимо найти температуру, при которой структура этого вещества (и значит и его спектр) изменится."
   ]
  },
  {
   "cell_type": "code",
   "execution_count": 1,
   "metadata": {},
   "outputs": [],
   "source": [
    "%matplotlib inline\n",
    "import matplotlib.pyplot as plt\n",
    "import pandas as pd"
   ]
  },
  {
   "cell_type": "code",
   "execution_count": 2,
   "metadata": {},
   "outputs": [],
   "source": [
    "df = pd.read_csv('txt/bsn300K.txt', sep='\\t', header=-1, names=['Wavenumber', 'Intensity'])"
   ]
  },
  {
   "cell_type": "markdown",
   "metadata": {},
   "source": [
    "#### Спектр представляет собой таблицу с двумя колонками\n",
    "#### Первая колонка - 'Wavenumber', это спектральный диапазон, он всегда одинаков, не изменяется при разных температурах. Думаю, что его можно неучитывать и удалить из датасета."
   ]
  },
  {
   "cell_type": "code",
   "execution_count": 3,
   "metadata": {},
   "outputs": [
    {
     "data": {
      "text/html": [
       "<div>\n",
       "<style scoped>\n",
       "    .dataframe tbody tr th:only-of-type {\n",
       "        vertical-align: middle;\n",
       "    }\n",
       "\n",
       "    .dataframe tbody tr th {\n",
       "        vertical-align: top;\n",
       "    }\n",
       "\n",
       "    .dataframe thead th {\n",
       "        text-align: right;\n",
       "    }\n",
       "</style>\n",
       "<table border=\"1\" class=\"dataframe\">\n",
       "  <thead>\n",
       "    <tr style=\"text-align: right;\">\n",
       "      <th></th>\n",
       "      <th>Wavenumber</th>\n",
       "      <th>Intensity</th>\n",
       "    </tr>\n",
       "  </thead>\n",
       "  <tbody>\n",
       "    <tr>\n",
       "      <th>0</th>\n",
       "      <td>988.543</td>\n",
       "      <td>2453.01</td>\n",
       "    </tr>\n",
       "    <tr>\n",
       "      <th>1</th>\n",
       "      <td>986.950</td>\n",
       "      <td>2445.16</td>\n",
       "    </tr>\n",
       "    <tr>\n",
       "      <th>2</th>\n",
       "      <td>985.357</td>\n",
       "      <td>2502.51</td>\n",
       "    </tr>\n",
       "    <tr>\n",
       "      <th>3</th>\n",
       "      <td>983.763</td>\n",
       "      <td>2493.94</td>\n",
       "    </tr>\n",
       "    <tr>\n",
       "      <th>4</th>\n",
       "      <td>982.169</td>\n",
       "      <td>2519.88</td>\n",
       "    </tr>\n",
       "  </tbody>\n",
       "</table>\n",
       "</div>"
      ],
      "text/plain": [
       "   Wavenumber  Intensity\n",
       "0     988.543    2453.01\n",
       "1     986.950    2445.16\n",
       "2     985.357    2502.51\n",
       "3     983.763    2493.94\n",
       "4     982.169    2519.88"
      ]
     },
     "execution_count": 3,
     "metadata": {},
     "output_type": "execute_result"
    }
   ],
   "source": [
    "df.head()"
   ]
  },
  {
   "cell_type": "markdown",
   "metadata": {},
   "source": [
    "#### В каждой колонке датасета по 551 строк, т.е. 551 различных значений."
   ]
  },
  {
   "cell_type": "code",
   "execution_count": 4,
   "metadata": {},
   "outputs": [
    {
     "data": {
      "text/plain": [
       "551"
      ]
     },
     "execution_count": 4,
     "metadata": {},
     "output_type": "execute_result"
    }
   ],
   "source": [
    "len(df)"
   ]
  },
  {
   "cell_type": "markdown",
   "metadata": {},
   "source": [
    "#### Спектр выглядит вот так"
   ]
  },
  {
   "cell_type": "code",
   "execution_count": 5,
   "metadata": {},
   "outputs": [
    {
     "data": {
      "image/png": "[encoded data removed]",
      "text/plain": [
       "<Figure size 432x288 with 1 Axes>"
      ]
     },
     "metadata": {
      "needs_background": "light"
     },
     "output_type": "display_data"
    }
   ],
   "source": [
    "plt.plot(df['Wavenumber'].values, df['Intensity'].values)\n",
    "plt.show()"
   ]
  },
  {
   "cell_type": "markdown",
   "metadata": {},
   "source": [
    "#### Объединяем все спектры в один датафрейм"
   ]
  },
  {
   "cell_type": "code",
   "execution_count": 6,
   "metadata": {},
   "outputs": [],
   "source": [
    "df = pd.read_csv('txt/spectra.csv')"
   ]
  },
  {
   "cell_type": "markdown",
   "metadata": {},
   "source": [
    "#### Теперь у нас в одной таблице все спектры, снятые при разных температурах. У них одниковый столбек с волновыми числами \"Wavenumber\", но разные интенсивности при разных температурах."
   ]
  },
  {
   "cell_type": "code",
   "execution_count": 7,
   "metadata": {},
   "outputs": [
    {
     "data": {
      "text/html": [
       "<div>\n",
       "<style scoped>\n",
       "    .dataframe tbody tr th:only-of-type {\n",
       "        vertical-align: middle;\n",
       "    }\n",
       "\n",
       "    .dataframe tbody tr th {\n",
       "        vertical-align: top;\n",
       "    }\n",
       "\n",
       "    .dataframe thead th {\n",
       "        text-align: right;\n",
       "    }\n",
       "</style>\n",
       "<table border=\"1\" class=\"dataframe\">\n",
       "  <thead>\n",
       "    <tr style=\"text-align: right;\">\n",
       "      <th></th>\n",
       "      <th>Wavenumber</th>\n",
       "      <th>300K</th>\n",
       "      <th>310K</th>\n",
       "      <th>320K</th>\n",
       "      <th>330K</th>\n",
       "      <th>340K</th>\n",
       "      <th>350K</th>\n",
       "      <th>360K</th>\n",
       "      <th>370K</th>\n",
       "      <th>380K</th>\n",
       "      <th>...</th>\n",
       "      <th>610K</th>\n",
       "      <th>620K</th>\n",
       "      <th>630K</th>\n",
       "      <th>640K</th>\n",
       "      <th>650K</th>\n",
       "      <th>660K</th>\n",
       "      <th>670K</th>\n",
       "      <th>680K</th>\n",
       "      <th>690K</th>\n",
       "      <th>700K</th>\n",
       "    </tr>\n",
       "  </thead>\n",
       "  <tbody>\n",
       "    <tr>\n",
       "      <th>0</th>\n",
       "      <td>988.543</td>\n",
       "      <td>2453.01</td>\n",
       "      <td>3940.82</td>\n",
       "      <td>4082.07</td>\n",
       "      <td>4499.54</td>\n",
       "      <td>3779.17</td>\n",
       "      <td>3921.99</td>\n",
       "      <td>4435.19</td>\n",
       "      <td>4421.06</td>\n",
       "      <td>3939.25</td>\n",
       "      <td>...</td>\n",
       "      <td>2066.93</td>\n",
       "      <td>1878.60</td>\n",
       "      <td>1971.20</td>\n",
       "      <td>1975.90</td>\n",
       "      <td>1721.66</td>\n",
       "      <td>1839.36</td>\n",
       "      <td>1756.18</td>\n",
       "      <td>1727.93</td>\n",
       "      <td>2774.74</td>\n",
       "      <td>2335.30</td>\n",
       "    </tr>\n",
       "    <tr>\n",
       "      <th>1</th>\n",
       "      <td>986.950</td>\n",
       "      <td>2445.16</td>\n",
       "      <td>3964.36</td>\n",
       "      <td>4204.48</td>\n",
       "      <td>4518.37</td>\n",
       "      <td>3699.13</td>\n",
       "      <td>3958.08</td>\n",
       "      <td>4507.38</td>\n",
       "      <td>4504.24</td>\n",
       "      <td>3917.28</td>\n",
       "      <td>...</td>\n",
       "      <td>2131.28</td>\n",
       "      <td>1902.14</td>\n",
       "      <td>1958.64</td>\n",
       "      <td>1996.31</td>\n",
       "      <td>1796.99</td>\n",
       "      <td>1869.18</td>\n",
       "      <td>1790.71</td>\n",
       "      <td>1632.20</td>\n",
       "      <td>2679.01</td>\n",
       "      <td>2333.73</td>\n",
       "    </tr>\n",
       "    <tr>\n",
       "      <th>2</th>\n",
       "      <td>985.357</td>\n",
       "      <td>2502.51</td>\n",
       "      <td>3945.96</td>\n",
       "      <td>4261.32</td>\n",
       "      <td>4593.94</td>\n",
       "      <td>3767.09</td>\n",
       "      <td>3930.27</td>\n",
       "      <td>4479.41</td>\n",
       "      <td>4504.51</td>\n",
       "      <td>3989.89</td>\n",
       "      <td>...</td>\n",
       "      <td>2160.47</td>\n",
       "      <td>1921.99</td>\n",
       "      <td>2061.62</td>\n",
       "      <td>1959.64</td>\n",
       "      <td>1771.37</td>\n",
       "      <td>1857.66</td>\n",
       "      <td>1788.62</td>\n",
       "      <td>1680.37</td>\n",
       "      <td>2725.30</td>\n",
       "      <td>2342.47</td>\n",
       "    </tr>\n",
       "    <tr>\n",
       "      <th>3</th>\n",
       "      <td>983.763</td>\n",
       "      <td>2493.94</td>\n",
       "      <td>3957.37</td>\n",
       "      <td>4314.99</td>\n",
       "      <td>4534.58</td>\n",
       "      <td>3824.04</td>\n",
       "      <td>3973.05</td>\n",
       "      <td>4586.34</td>\n",
       "      <td>4490.66</td>\n",
       "      <td>3958.94</td>\n",
       "      <td>...</td>\n",
       "      <td>2104.95</td>\n",
       "      <td>1913.59</td>\n",
       "      <td>2158.28</td>\n",
       "      <td>2045.35</td>\n",
       "      <td>1792.81</td>\n",
       "      <td>1805.36</td>\n",
       "      <td>1806.93</td>\n",
       "      <td>1645.37</td>\n",
       "      <td>2721.38</td>\n",
       "      <td>2357.48</td>\n",
       "    </tr>\n",
       "    <tr>\n",
       "      <th>4</th>\n",
       "      <td>982.169</td>\n",
       "      <td>2519.88</td>\n",
       "      <td>4056.59</td>\n",
       "      <td>4301.21</td>\n",
       "      <td>4544.26</td>\n",
       "      <td>3832.35</td>\n",
       "      <td>3924.87</td>\n",
       "      <td>4514.46</td>\n",
       "      <td>4454.88</td>\n",
       "      <td>4014.25</td>\n",
       "      <td>...</td>\n",
       "      <td>2179.61</td>\n",
       "      <td>1894.22</td>\n",
       "      <td>2027.51</td>\n",
       "      <td>2060.44</td>\n",
       "      <td>1789.16</td>\n",
       "      <td>1919.31</td>\n",
       "      <td>1840.91</td>\n",
       "      <td>1690.38</td>\n",
       "      <td>2731.57</td>\n",
       "      <td>2402.28</td>\n",
       "    </tr>\n",
       "  </tbody>\n",
       "</table>\n",
       "<p>5 rows × 42 columns</p>\n",
       "</div>"
      ],
      "text/plain": [
       "   Wavenumber     300K     310K     320K     330K     340K     350K     360K  \\\n",
       "0     988.543  2453.01  3940.82  4082.07  4499.54  3779.17  3921.99  4435.19   \n",
       "1     986.950  2445.16  3964.36  4204.48  4518.37  3699.13  3958.08  4507.38   \n",
       "2     985.357  2502.51  3945.96  4261.32  4593.94  3767.09  3930.27  4479.41   \n",
       "3     983.763  2493.94  3957.37  4314.99  4534.58  3824.04  3973.05  4586.34   \n",
       "4     982.169  2519.88  4056.59  4301.21  4544.26  3832.35  3924.87  4514.46   \n",
       "\n",
       "      370K     380K  ...     610K     620K     630K     640K     650K  \\\n",
       "0  4421.06  3939.25  ...  2066.93  1878.60  1971.20  1975.90  1721.66   \n",
       "1  4504.24  3917.28  ...  2131.28  1902.14  1958.64  1996.31  1796.99   \n",
       "2  4504.51  3989.89  ...  2160.47  1921.99  2061.62  1959.64  1771.37   \n",
       "3  4490.66  3958.94  ...  2104.95  1913.59  2158.28  2045.35  1792.81   \n",
       "4  4454.88  4014.25  ...  2179.61  1894.22  2027.51  2060.44  1789.16   \n",
       "\n",
       "      660K     670K     680K     690K     700K  \n",
       "0  1839.36  1756.18  1727.93  2774.74  2335.30  \n",
       "1  1869.18  1790.71  1632.20  2679.01  2333.73  \n",
       "2  1857.66  1788.62  1680.37  2725.30  2342.47  \n",
       "3  1805.36  1806.93  1645.37  2721.38  2357.48  \n",
       "4  1919.31  1840.91  1690.38  2731.57  2402.28  \n",
       "\n",
       "[5 rows x 42 columns]"
      ]
     },
     "execution_count": 7,
     "metadata": {},
     "output_type": "execute_result"
    }
   ],
   "source": [
    "df.head()"
   ]
  },
  {
   "cell_type": "markdown",
   "metadata": {},
   "source": [
    "#### Транспонируем таблицу"
   ]
  },
  {
   "cell_type": "code",
   "execution_count": 8,
   "metadata": {},
   "outputs": [
    {
     "data": {
      "text/html": [
       "<div>\n",
       "<style scoped>\n",
       "    .dataframe tbody tr th:only-of-type {\n",
       "        vertical-align: middle;\n",
       "    }\n",
       "\n",
       "    .dataframe tbody tr th {\n",
       "        vertical-align: top;\n",
       "    }\n",
       "\n",
       "    .dataframe thead th {\n",
       "        text-align: right;\n",
       "    }\n",
       "</style>\n",
       "<table border=\"1\" class=\"dataframe\">\n",
       "  <thead>\n",
       "    <tr style=\"text-align: right;\">\n",
       "      <th></th>\n",
       "      <th>0</th>\n",
       "      <th>1</th>\n",
       "      <th>2</th>\n",
       "      <th>3</th>\n",
       "      <th>4</th>\n",
       "      <th>5</th>\n",
       "      <th>6</th>\n",
       "      <th>7</th>\n",
       "      <th>8</th>\n",
       "      <th>9</th>\n",
       "      <th>...</th>\n",
       "      <th>541</th>\n",
       "      <th>542</th>\n",
       "      <th>543</th>\n",
       "      <th>544</th>\n",
       "      <th>545</th>\n",
       "      <th>546</th>\n",
       "      <th>547</th>\n",
       "      <th>548</th>\n",
       "      <th>549</th>\n",
       "      <th>550</th>\n",
       "    </tr>\n",
       "  </thead>\n",
       "  <tbody>\n",
       "    <tr>\n",
       "      <th>Wavenumber</th>\n",
       "      <td>988.543</td>\n",
       "      <td>986.95</td>\n",
       "      <td>985.357</td>\n",
       "      <td>983.763</td>\n",
       "      <td>982.169</td>\n",
       "      <td>980.574</td>\n",
       "      <td>978.979</td>\n",
       "      <td>977.383</td>\n",
       "      <td>975.787</td>\n",
       "      <td>974.19</td>\n",
       "      <td>...</td>\n",
       "      <td>75.0761</td>\n",
       "      <td>73.2938</td>\n",
       "      <td>71.5112</td>\n",
       "      <td>69.7283</td>\n",
       "      <td>67.9451</td>\n",
       "      <td>66.1617</td>\n",
       "      <td>64.378</td>\n",
       "      <td>62.594</td>\n",
       "      <td>60.8098</td>\n",
       "      <td>59.0254</td>\n",
       "    </tr>\n",
       "    <tr>\n",
       "      <th>300K</th>\n",
       "      <td>2453.010</td>\n",
       "      <td>2445.16</td>\n",
       "      <td>2502.510</td>\n",
       "      <td>2493.940</td>\n",
       "      <td>2519.880</td>\n",
       "      <td>2462.730</td>\n",
       "      <td>2388.370</td>\n",
       "      <td>2519.300</td>\n",
       "      <td>2491.960</td>\n",
       "      <td>2593.05</td>\n",
       "      <td>...</td>\n",
       "      <td>15000.8000</td>\n",
       "      <td>14963.4000</td>\n",
       "      <td>14450.6000</td>\n",
       "      <td>14379.7000</td>\n",
       "      <td>13893.9000</td>\n",
       "      <td>13898.8000</td>\n",
       "      <td>13431.400</td>\n",
       "      <td>13031.400</td>\n",
       "      <td>12352.8000</td>\n",
       "      <td>11486.6000</td>\n",
       "    </tr>\n",
       "    <tr>\n",
       "      <th>310K</th>\n",
       "      <td>3940.820</td>\n",
       "      <td>3964.36</td>\n",
       "      <td>3945.960</td>\n",
       "      <td>3957.370</td>\n",
       "      <td>4056.590</td>\n",
       "      <td>4064.840</td>\n",
       "      <td>4107.560</td>\n",
       "      <td>4092.300</td>\n",
       "      <td>4167.890</td>\n",
       "      <td>4136.97</td>\n",
       "      <td>...</td>\n",
       "      <td>27403.4000</td>\n",
       "      <td>27197.2000</td>\n",
       "      <td>26608.3000</td>\n",
       "      <td>25935.4000</td>\n",
       "      <td>25686.1000</td>\n",
       "      <td>25523.9000</td>\n",
       "      <td>24826.300</td>\n",
       "      <td>23944.000</td>\n",
       "      <td>22694.9000</td>\n",
       "      <td>21048.2000</td>\n",
       "    </tr>\n",
       "    <tr>\n",
       "      <th>320K</th>\n",
       "      <td>4082.070</td>\n",
       "      <td>4204.48</td>\n",
       "      <td>4261.320</td>\n",
       "      <td>4314.990</td>\n",
       "      <td>4301.210</td>\n",
       "      <td>4317.220</td>\n",
       "      <td>4287.790</td>\n",
       "      <td>4466.750</td>\n",
       "      <td>4340.180</td>\n",
       "      <td>4434.48</td>\n",
       "      <td>...</td>\n",
       "      <td>28128.7000</td>\n",
       "      <td>28180.5000</td>\n",
       "      <td>27389.4000</td>\n",
       "      <td>27242.3000</td>\n",
       "      <td>26725.0000</td>\n",
       "      <td>26569.6000</td>\n",
       "      <td>25867.700</td>\n",
       "      <td>24818.500</td>\n",
       "      <td>23573.4000</td>\n",
       "      <td>21957.5000</td>\n",
       "    </tr>\n",
       "    <tr>\n",
       "      <th>330K</th>\n",
       "      <td>4499.540</td>\n",
       "      <td>4518.37</td>\n",
       "      <td>4593.940</td>\n",
       "      <td>4534.580</td>\n",
       "      <td>4544.260</td>\n",
       "      <td>4663.670</td>\n",
       "      <td>4649.800</td>\n",
       "      <td>4524.710</td>\n",
       "      <td>4736.450</td>\n",
       "      <td>4638.04</td>\n",
       "      <td>...</td>\n",
       "      <td>28837.1000</td>\n",
       "      <td>28639.2000</td>\n",
       "      <td>28120.1000</td>\n",
       "      <td>28040.1000</td>\n",
       "      <td>27147.0000</td>\n",
       "      <td>27248.1000</td>\n",
       "      <td>26369.500</td>\n",
       "      <td>25803.600</td>\n",
       "      <td>24296.4000</td>\n",
       "      <td>22657.9000</td>\n",
       "    </tr>\n",
       "  </tbody>\n",
       "</table>\n",
       "<p>5 rows × 551 columns</p>\n",
       "</div>"
      ],
      "text/plain": [
       "                 0        1         2         3         4         5    \\\n",
       "Wavenumber   988.543   986.95   985.357   983.763   982.169   980.574   \n",
       "300K        2453.010  2445.16  2502.510  2493.940  2519.880  2462.730   \n",
       "310K        3940.820  3964.36  3945.960  3957.370  4056.590  4064.840   \n",
       "320K        4082.070  4204.48  4261.320  4314.990  4301.210  4317.220   \n",
       "330K        4499.540  4518.37  4593.940  4534.580  4544.260  4663.670   \n",
       "\n",
       "                 6         7         8        9    ...         541  \\\n",
       "Wavenumber   978.979   977.383   975.787   974.19  ...     75.0761   \n",
       "300K        2388.370  2519.300  2491.960  2593.05  ...  15000.8000   \n",
       "310K        4107.560  4092.300  4167.890  4136.97  ...  27403.4000   \n",
       "320K        4287.790  4466.750  4340.180  4434.48  ...  28128.7000   \n",
       "330K        4649.800  4524.710  4736.450  4638.04  ...  28837.1000   \n",
       "\n",
       "                   542         543         544         545         546  \\\n",
       "Wavenumber     73.2938     71.5112     69.7283     67.9451     66.1617   \n",
       "300K        14963.4000  14450.6000  14379.7000  13893.9000  13898.8000   \n",
       "310K        27197.2000  26608.3000  25935.4000  25686.1000  25523.9000   \n",
       "320K        28180.5000  27389.4000  27242.3000  26725.0000  26569.6000   \n",
       "330K        28639.2000  28120.1000  28040.1000  27147.0000  27248.1000   \n",
       "\n",
       "                  547        548         549         550  \n",
       "Wavenumber     64.378     62.594     60.8098     59.0254  \n",
       "300K        13431.400  13031.400  12352.8000  11486.6000  \n",
       "310K        24826.300  23944.000  22694.9000  21048.2000  \n",
       "320K        25867.700  24818.500  23573.4000  21957.5000  \n",
       "330K        26369.500  25803.600  24296.4000  22657.9000  \n",
       "\n",
       "[5 rows x 551 columns]"
      ]
     },
     "execution_count": 8,
     "metadata": {},
     "output_type": "execute_result"
    }
   ],
   "source": [
    "data = df.T\n",
    "data.head()"
   ]
  },
  {
   "cell_type": "markdown",
   "metadata": {},
   "source": [
    "#### Удалим строку с волновыми числами"
   ]
  },
  {
   "cell_type": "code",
   "execution_count": 9,
   "metadata": {},
   "outputs": [
    {
     "data": {
      "text/html": [
       "<div>\n",
       "<style scoped>\n",
       "    .dataframe tbody tr th:only-of-type {\n",
       "        vertical-align: middle;\n",
       "    }\n",
       "\n",
       "    .dataframe tbody tr th {\n",
       "        vertical-align: top;\n",
       "    }\n",
       "\n",
       "    .dataframe thead th {\n",
       "        text-align: right;\n",
       "    }\n",
       "</style>\n",
       "<table border=\"1\" class=\"dataframe\">\n",
       "  <thead>\n",
       "    <tr style=\"text-align: right;\">\n",
       "      <th></th>\n",
       "      <th>0</th>\n",
       "      <th>1</th>\n",
       "      <th>2</th>\n",
       "      <th>3</th>\n",
       "      <th>4</th>\n",
       "      <th>5</th>\n",
       "      <th>6</th>\n",
       "      <th>7</th>\n",
       "      <th>8</th>\n",
       "      <th>9</th>\n",
       "      <th>...</th>\n",
       "      <th>541</th>\n",
       "      <th>542</th>\n",
       "      <th>543</th>\n",
       "      <th>544</th>\n",
       "      <th>545</th>\n",
       "      <th>546</th>\n",
       "      <th>547</th>\n",
       "      <th>548</th>\n",
       "      <th>549</th>\n",
       "      <th>550</th>\n",
       "    </tr>\n",
       "  </thead>\n",
       "  <tbody>\n",
       "    <tr>\n",
       "      <th>300K</th>\n",
       "      <td>2453.01</td>\n",
       "      <td>2445.16</td>\n",
       "      <td>2502.51</td>\n",
       "      <td>2493.94</td>\n",
       "      <td>2519.88</td>\n",
       "      <td>2462.73</td>\n",
       "      <td>2388.37</td>\n",
       "      <td>2519.30</td>\n",
       "      <td>2491.96</td>\n",
       "      <td>2593.05</td>\n",
       "      <td>...</td>\n",
       "      <td>15000.8</td>\n",
       "      <td>14963.4</td>\n",
       "      <td>14450.6</td>\n",
       "      <td>14379.7</td>\n",
       "      <td>13893.9</td>\n",
       "      <td>13898.8</td>\n",
       "      <td>13431.4</td>\n",
       "      <td>13031.4</td>\n",
       "      <td>12352.8</td>\n",
       "      <td>11486.6</td>\n",
       "    </tr>\n",
       "    <tr>\n",
       "      <th>310K</th>\n",
       "      <td>3940.82</td>\n",
       "      <td>3964.36</td>\n",
       "      <td>3945.96</td>\n",
       "      <td>3957.37</td>\n",
       "      <td>4056.59</td>\n",
       "      <td>4064.84</td>\n",
       "      <td>4107.56</td>\n",
       "      <td>4092.30</td>\n",
       "      <td>4167.89</td>\n",
       "      <td>4136.97</td>\n",
       "      <td>...</td>\n",
       "      <td>27403.4</td>\n",
       "      <td>27197.2</td>\n",
       "      <td>26608.3</td>\n",
       "      <td>25935.4</td>\n",
       "      <td>25686.1</td>\n",
       "      <td>25523.9</td>\n",
       "      <td>24826.3</td>\n",
       "      <td>23944.0</td>\n",
       "      <td>22694.9</td>\n",
       "      <td>21048.2</td>\n",
       "    </tr>\n",
       "    <tr>\n",
       "      <th>320K</th>\n",
       "      <td>4082.07</td>\n",
       "      <td>4204.48</td>\n",
       "      <td>4261.32</td>\n",
       "      <td>4314.99</td>\n",
       "      <td>4301.21</td>\n",
       "      <td>4317.22</td>\n",
       "      <td>4287.79</td>\n",
       "      <td>4466.75</td>\n",
       "      <td>4340.18</td>\n",
       "      <td>4434.48</td>\n",
       "      <td>...</td>\n",
       "      <td>28128.7</td>\n",
       "      <td>28180.5</td>\n",
       "      <td>27389.4</td>\n",
       "      <td>27242.3</td>\n",
       "      <td>26725.0</td>\n",
       "      <td>26569.6</td>\n",
       "      <td>25867.7</td>\n",
       "      <td>24818.5</td>\n",
       "      <td>23573.4</td>\n",
       "      <td>21957.5</td>\n",
       "    </tr>\n",
       "    <tr>\n",
       "      <th>330K</th>\n",
       "      <td>4499.54</td>\n",
       "      <td>4518.37</td>\n",
       "      <td>4593.94</td>\n",
       "      <td>4534.58</td>\n",
       "      <td>4544.26</td>\n",
       "      <td>4663.67</td>\n",
       "      <td>4649.80</td>\n",
       "      <td>4524.71</td>\n",
       "      <td>4736.45</td>\n",
       "      <td>4638.04</td>\n",
       "      <td>...</td>\n",
       "      <td>28837.1</td>\n",
       "      <td>28639.2</td>\n",
       "      <td>28120.1</td>\n",
       "      <td>28040.1</td>\n",
       "      <td>27147.0</td>\n",
       "      <td>27248.1</td>\n",
       "      <td>26369.5</td>\n",
       "      <td>25803.6</td>\n",
       "      <td>24296.4</td>\n",
       "      <td>22657.9</td>\n",
       "    </tr>\n",
       "    <tr>\n",
       "      <th>340K</th>\n",
       "      <td>3779.17</td>\n",
       "      <td>3699.13</td>\n",
       "      <td>3767.09</td>\n",
       "      <td>3824.04</td>\n",
       "      <td>3832.35</td>\n",
       "      <td>3771.69</td>\n",
       "      <td>3833.31</td>\n",
       "      <td>3847.89</td>\n",
       "      <td>3970.54</td>\n",
       "      <td>4019.53</td>\n",
       "      <td>...</td>\n",
       "      <td>23485.2</td>\n",
       "      <td>23208.1</td>\n",
       "      <td>22761.4</td>\n",
       "      <td>22682.2</td>\n",
       "      <td>22221.8</td>\n",
       "      <td>22247.9</td>\n",
       "      <td>21215.8</td>\n",
       "      <td>20872.2</td>\n",
       "      <td>19954.2</td>\n",
       "      <td>18647.0</td>\n",
       "    </tr>\n",
       "  </tbody>\n",
       "</table>\n",
       "<p>5 rows × 551 columns</p>\n",
       "</div>"
      ],
      "text/plain": [
       "          0        1        2        3        4        5        6        7    \\\n",
       "300K  2453.01  2445.16  2502.51  2493.94  2519.88  2462.73  2388.37  2519.30   \n",
       "310K  3940.82  3964.36  3945.96  3957.37  4056.59  4064.84  4107.56  4092.30   \n",
       "320K  4082.07  4204.48  4261.32  4314.99  4301.21  4317.22  4287.79  4466.75   \n",
       "330K  4499.54  4518.37  4593.94  4534.58  4544.26  4663.67  4649.80  4524.71   \n",
       "340K  3779.17  3699.13  3767.09  3824.04  3832.35  3771.69  3833.31  3847.89   \n",
       "\n",
       "          8        9    ...      541      542      543      544      545  \\\n",
       "300K  2491.96  2593.05  ...  15000.8  14963.4  14450.6  14379.7  13893.9   \n",
       "310K  4167.89  4136.97  ...  27403.4  27197.2  26608.3  25935.4  25686.1   \n",
       "320K  4340.18  4434.48  ...  28128.7  28180.5  27389.4  27242.3  26725.0   \n",
       "330K  4736.45  4638.04  ...  28837.1  28639.2  28120.1  28040.1  27147.0   \n",
       "340K  3970.54  4019.53  ...  23485.2  23208.1  22761.4  22682.2  22221.8   \n",
       "\n",
       "          546      547      548      549      550  \n",
       "300K  13898.8  13431.4  13031.4  12352.8  11486.6  \n",
       "310K  25523.9  24826.3  23944.0  22694.9  21048.2  \n",
       "320K  26569.6  25867.7  24818.5  23573.4  21957.5  \n",
       "330K  27248.1  26369.5  25803.6  24296.4  22657.9  \n",
       "340K  22247.9  21215.8  20872.2  19954.2  18647.0  \n",
       "\n",
       "[5 rows x 551 columns]"
      ]
     },
     "execution_count": 9,
     "metadata": {},
     "output_type": "execute_result"
    }
   ],
   "source": [
    "data = data.drop(index = 'Wavenumber')\n",
    "data.head()"
   ]
  },
  {
   "cell_type": "markdown",
   "metadata": {},
   "source": [
    "### Теперь у нас есть метка - температура, и признаки - строка с интенсивностью, 550 фич для каждой метки.\n",
    "\n",
    "### Задача - классифировать эти спектры на два (предположительно) класса и определить температуру (или диапазон температур), которые эти классы разделяют. Например, есть фазовый переход происходит при температуре Tc = 355 K, по спектры до этой температуры можно отнести к классу 0, спектры выше этой температуры к классу 1."
   ]
  },
  {
   "cell_type": "code",
   "execution_count": 10,
   "metadata": {},
   "outputs": [],
   "source": [
    "from sklearn.cluster import KMeans"
   ]
  },
  {
   "cell_type": "code",
   "execution_count": 11,
   "metadata": {},
   "outputs": [],
   "source": [
    "kmeans=KMeans(n_clusters=4)"
   ]
  },
  {
   "cell_type": "code",
   "execution_count": 12,
   "metadata": {},
   "outputs": [
    {
     "data": {
      "text/plain": [
       "KMeans(algorithm='auto', copy_x=True, init='k-means++', max_iter=300,\n",
       "    n_clusters=4, n_init=10, n_jobs=None, precompute_distances='auto',\n",
       "    random_state=None, tol=0.0001, verbose=0)"
      ]
     },
     "execution_count": 12,
     "metadata": {},
     "output_type": "execute_result"
    }
   ],
   "source": [
    "kmeans.fit(data)"
   ]
  },
  {
   "cell_type": "code",
   "execution_count": 13,
   "metadata": {},
   "outputs": [],
   "source": [
    "cluster_centers = kmeans.cluster_centers_"
   ]
  },
  {
   "cell_type": "code",
   "execution_count": 22,
   "metadata": {},
   "outputs": [
    {
     "data": {
      "text/plain": [
       "(4, 551)"
      ]
     },
     "execution_count": 22,
     "metadata": {},
     "output_type": "execute_result"
    }
   ],
   "source": [
    "cluster_centers.shape"
   ]
  },
  {
   "cell_type": "code",
   "execution_count": 15,
   "metadata": {},
   "outputs": [
    {
     "data": {
      "text/plain": [
       "array([2, 3, 3, 3, 0, 0, 0, 0, 0, 0, 0, 0, 0, 0, 0, 0, 0, 2, 0, 0, 2, 0,\n",
       "       2, 2, 2, 2, 2, 2, 2, 1, 1, 1, 1, 1, 1, 1, 1, 1, 1, 2, 2])"
      ]
     },
     "execution_count": 15,
     "metadata": {},
     "output_type": "execute_result"
    }
   ],
   "source": [
    "k_means_labels = kmeans.labels_\n",
    "k_means_labels"
   ]
  },
  {
   "cell_type": "code",
   "execution_count": 16,
   "metadata": {},
   "outputs": [],
   "source": [
    "kdf=pd.DataFrame()"
   ]
  },
  {
   "cell_type": "code",
   "execution_count": 17,
   "metadata": {},
   "outputs": [],
   "source": [
    "kdf['Temperature'] = range(300, 710, 10)"
   ]
  },
  {
   "cell_type": "code",
   "execution_count": 18,
   "metadata": {},
   "outputs": [],
   "source": [
    "kdf['Class'] = k_means_labels"
   ]
  },
  {
   "cell_type": "code",
   "execution_count": 19,
   "metadata": {},
   "outputs": [
    {
     "data": {
      "text/html": [
       "<div>\n",
       "<style scoped>\n",
       "    .dataframe tbody tr th:only-of-type {\n",
       "        vertical-align: middle;\n",
       "    }\n",
       "\n",
       "    .dataframe tbody tr th {\n",
       "        vertical-align: top;\n",
       "    }\n",
       "\n",
       "    .dataframe thead th {\n",
       "        text-align: right;\n",
       "    }\n",
       "</style>\n",
       "<table border=\"1\" class=\"dataframe\">\n",
       "  <thead>\n",
       "    <tr style=\"text-align: right;\">\n",
       "      <th></th>\n",
       "      <th>Temperature</th>\n",
       "      <th>Class</th>\n",
       "    </tr>\n",
       "  </thead>\n",
       "  <tbody>\n",
       "    <tr>\n",
       "      <th>0</th>\n",
       "      <td>300</td>\n",
       "      <td>2</td>\n",
       "    </tr>\n",
       "    <tr>\n",
       "      <th>1</th>\n",
       "      <td>310</td>\n",
       "      <td>3</td>\n",
       "    </tr>\n",
       "    <tr>\n",
       "      <th>2</th>\n",
       "      <td>320</td>\n",
       "      <td>3</td>\n",
       "    </tr>\n",
       "    <tr>\n",
       "      <th>3</th>\n",
       "      <td>330</td>\n",
       "      <td>3</td>\n",
       "    </tr>\n",
       "    <tr>\n",
       "      <th>4</th>\n",
       "      <td>340</td>\n",
       "      <td>0</td>\n",
       "    </tr>\n",
       "  </tbody>\n",
       "</table>\n",
       "</div>"
      ],
      "text/plain": [
       "   Temperature  Class\n",
       "0          300      2\n",
       "1          310      3\n",
       "2          320      3\n",
       "3          330      3\n",
       "4          340      0"
      ]
     },
     "execution_count": 19,
     "metadata": {},
     "output_type": "execute_result"
    }
   ],
   "source": [
    "kdf.head()"
   ]
  },
  {
   "cell_type": "code",
   "execution_count": null,
   "metadata": {},
   "outputs": [],
   "source": []
  }
 ],
 "metadata": {
  "kernelspec": {
   "display_name": "Python 3",
   "language": "python",
   "name": "python3"
  },
  "language_info": {
   "codemirror_mode": {
    "name": "ipython",
    "version": 3
   },
   "file_extension": ".py",
   "mimetype": "text/x-python",
   "name": "python",
   "nbconvert_exporter": "python",
   "pygments_lexer": "ipython3",
   "version": "3.6.8"
  }
 },
 "nbformat": 4,
 "nbformat_minor": 2
}
