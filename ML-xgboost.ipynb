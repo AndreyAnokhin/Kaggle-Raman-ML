{
 "cells": [
  {
   "cell_type": "code",
   "execution_count": 24,
   "metadata": {},
   "outputs": [],
   "source": [
    "import numpy as np\n",
    "from sklearn.metrics import accuracy_score, classification_report, confusion_matrix\n",
    "from xgboost import XGBClassifier\n",
    "from sklearn.model_selection import train_test_split, cross_val_score, StratifiedKFold, GridSearchCV"
   ]
  },
  {
   "cell_type": "markdown",
   "metadata": {},
   "source": [
    "### Загружаем данные из pickle-файлов"
   ]
  },
  {
   "cell_type": "code",
   "execution_count": 25,
   "metadata": {},
   "outputs": [],
   "source": [
    "import pickle"
   ]
  },
  {
   "cell_type": "code",
   "execution_count": 26,
   "metadata": {},
   "outputs": [],
   "source": [
    "with open('X_train.pickle', 'rb') as f:\n",
    "    X_train = pickle.load(f)\n",
    "with open('y_train.pickle', 'rb') as f:\n",
    "    y_train = pickle.load(f)"
   ]
  },
  {
   "cell_type": "code",
   "execution_count": 27,
   "metadata": {},
   "outputs": [],
   "source": [
    "with open('X_holdout.pickle', 'rb') as f:\n",
    "    X_holdout = pickle.load(f)\n",
    "with open('y_holdout.pickle', 'rb') as f:\n",
    "    y_holdout = pickle.load(f)"
   ]
  },
  {
   "cell_type": "markdown",
   "metadata": {},
   "source": [
    "### XGBoost"
   ]
  },
  {
   "cell_type": "code",
   "execution_count": 28,
   "metadata": {},
   "outputs": [],
   "source": [
    "xgbc = XGBClassifier()\n",
    "xgbc.fit(X_train, y_train);"
   ]
  },
  {
   "cell_type": "markdown",
   "metadata": {},
   "source": [
    "### Качество моделей (оценка на основе отложенной выборки)"
   ]
  },
  {
   "cell_type": "code",
   "execution_count": 29,
   "metadata": {},
   "outputs": [
    {
     "name": "stdout",
     "output_type": "stream",
     "text": [
      "Accuracy: 50.00%\n"
     ]
    }
   ],
   "source": [
    "pred_holdout_xgbc = xgbc.predict(X_holdout)\n",
    "XGB_accuracy = accuracy_score(y_holdout, pred_holdout_xgbc)\n",
    "print(\"Accuracy: %.2f%%\" % (XGB_accuracy * 100.0))"
   ]
  },
  {
   "cell_type": "markdown",
   "metadata": {},
   "source": [
    "### Кросс-валидация"
   ]
  },
  {
   "cell_type": "code",
   "execution_count": 30,
   "metadata": {},
   "outputs": [],
   "source": [
    "#StratifiedKfold returns stratified folds, \n",
    "#i.e while making the folds it maintains the percentage of samples for each class in every fold. \n",
    "\n",
    "skf = StratifiedKFold(n_splits = 7, random_state=1, shuffle = True)"
   ]
  },
  {
   "cell_type": "code",
   "execution_count": 31,
   "metadata": {},
   "outputs": [
    {
     "data": {
      "text/plain": [
       "array([0.5, 0.5, 0.5, 0.5, 1. , 0.5, 1. ])"
      ]
     },
     "execution_count": 31,
     "metadata": {},
     "output_type": "execute_result"
    }
   ],
   "source": [
    "xgb_cvs = cross_val_score(xgbc, X_train, y_train, scoring='accuracy', cv = skf)\n",
    "xgb_cvs"
   ]
  },
  {
   "cell_type": "code",
   "execution_count": 32,
   "metadata": {},
   "outputs": [
    {
     "name": "stdout",
     "output_type": "stream",
     "text": [
      "Mean accuracy: 64.29%\n"
     ]
    }
   ],
   "source": [
    "print(\"Mean accuracy: %.2f%%\" % (xgb_cvs.mean()* 100.0))"
   ]
  },
  {
   "cell_type": "code",
   "execution_count": 33,
   "metadata": {},
   "outputs": [
    {
     "name": "stdout",
     "output_type": "stream",
     "text": [
      "Fitting 3 folds for each of 27 candidates, totalling 81 fits\n"
     ]
    },
    {
     "name": "stderr",
     "output_type": "stream",
     "text": [
      "/home/andrey/anaconda3/envs/env36/lib/python3.6/site-packages/sklearn/model_selection/_split.py:1978: FutureWarning: The default value of cv will change from 3 to 5 in version 0.22. Specify it explicitly to silence this warning.\n",
      "  warnings.warn(CV_WARNING, FutureWarning)\n",
      "[Parallel(n_jobs=1)]: Using backend SequentialBackend with 1 concurrent workers.\n"
     ]
    },
    {
     "name": "stdout",
     "output_type": "stream",
     "text": [
      "0.6428571428571429\n",
      "{'max_depth': 3, 'min_child_weight': 1, 'n_estimators': 50}\n"
     ]
    },
    {
     "name": "stderr",
     "output_type": "stream",
     "text": [
      "[Parallel(n_jobs=1)]: Done  81 out of  81 | elapsed:    0.9s finished\n",
      "/home/andrey/anaconda3/envs/env36/lib/python3.6/site-packages/sklearn/model_selection/_search.py:813: DeprecationWarning: The default of the `iid` parameter will change from True to False in version 0.22 and will be removed in 0.24. This will change numeric results when test-set sizes are unequal.\n",
      "  DeprecationWarning)\n"
     ]
    }
   ],
   "source": [
    "clf = GridSearchCV(xgbc,{'max_depth': [3,5,7],\n",
    "                    'n_estimators': [50,100,200],\n",
    "                        'min_child_weight': [1,3,5]}, \n",
    "                    verbose=1, \n",
    "                    scoring='accuracy')\n",
    "\n",
    "clf.fit(X_train, y_train)\n",
    "print(clf.best_score_)\n",
    "print(clf.best_params_)"
   ]
  },
  {
   "cell_type": "code",
   "execution_count": 34,
   "metadata": {},
   "outputs": [],
   "source": [
    "cv_params = {'max_depth': [3,5,7], 'min_child_weight': [1,3,5]}"
   ]
  },
  {
   "cell_type": "code",
   "execution_count": 35,
   "metadata": {},
   "outputs": [],
   "source": [
    "ind_params = {'learning_rate': 0.1, 'n_estimators': 1000, 'seed':0, 'subsample': 0.8, 'colsample_bytree': 0.8, \n",
    "             'objective': 'binary:logistic'}"
   ]
  },
  {
   "cell_type": "code",
   "execution_count": 36,
   "metadata": {},
   "outputs": [],
   "source": [
    "optimized_GBM = GridSearchCV(XGBClassifier(**ind_params), cv_params, scoring = 'accuracy', cv = 5, n_jobs = -1) "
   ]
  },
  {
   "cell_type": "code",
   "execution_count": 37,
   "metadata": {},
   "outputs": [
    {
     "name": "stderr",
     "output_type": "stream",
     "text": [
      "/home/andrey/anaconda3/envs/env36/lib/python3.6/site-packages/sklearn/model_selection/_search.py:813: DeprecationWarning: The default of the `iid` parameter will change from True to False in version 0.22 and will be removed in 0.24. This will change numeric results when test-set sizes are unequal.\n",
      "  DeprecationWarning)\n"
     ]
    },
    {
     "data": {
      "text/plain": [
       "GridSearchCV(cv=5, error_score='raise-deprecating',\n",
       "             estimator=XGBClassifier(base_score=0.5, booster='gbtree',\n",
       "                                     colsample_bylevel=1, colsample_bytree=0.8,\n",
       "                                     gamma=0, learning_rate=0.1,\n",
       "                                     max_delta_step=0, max_depth=3,\n",
       "                                     min_child_weight=1, missing=None,\n",
       "                                     n_estimators=1000, n_jobs=1, nthread=None,\n",
       "                                     objective='binary:logistic',\n",
       "                                     random_state=0, reg_alpha=0, reg_lambda=1,\n",
       "                                     scale_pos_weight=1, seed=0, silent=True,\n",
       "                                     subsample=0.8),\n",
       "             iid='warn', n_jobs=-1,\n",
       "             param_grid={'max_depth': [3, 5, 7], 'min_child_weight': [1, 3, 5]},\n",
       "             pre_dispatch='2*n_jobs', refit=True, return_train_score=False,\n",
       "             scoring='accuracy', verbose=0)"
      ]
     },
     "execution_count": 37,
     "metadata": {},
     "output_type": "execute_result"
    }
   ],
   "source": [
    "optimized_GBM.fit(X_train, y_train)"
   ]
  },
  {
   "cell_type": "code",
   "execution_count": 38,
   "metadata": {},
   "outputs": [
    {
     "name": "stdout",
     "output_type": "stream",
     "text": [
      "{'max_depth': 3, 'min_child_weight': 1}\n",
      "0.6428571428571429\n"
     ]
    }
   ],
   "source": [
    "print(optimized_GBM.best_params_)\n",
    "print(optimized_GBM.best_score_)"
   ]
  },
  {
   "cell_type": "code",
   "execution_count": 39,
   "metadata": {},
   "outputs": [
    {
     "name": "stderr",
     "output_type": "stream",
     "text": [
      "/home/andrey/anaconda3/envs/env36/lib/python3.6/site-packages/sklearn/model_selection/_search.py:813: DeprecationWarning: The default of the `iid` parameter will change from True to False in version 0.22 and will be removed in 0.24. This will change numeric results when test-set sizes are unequal.\n",
      "  DeprecationWarning)\n"
     ]
    },
    {
     "data": {
      "text/plain": [
       "GridSearchCV(cv=5, error_score='raise-deprecating',\n",
       "             estimator=XGBClassifier(base_score=0.5, booster='gbtree',\n",
       "                                     colsample_bylevel=1, colsample_bytree=0.8,\n",
       "                                     gamma=0, learning_rate=0.1,\n",
       "                                     max_delta_step=0, max_depth=3,\n",
       "                                     min_child_weight=1, missing=None,\n",
       "                                     n_estimators=1000, n_jobs=1, nthread=None,\n",
       "                                     objective='binary:logistic',\n",
       "                                     random_state=0, reg_alpha=0, reg_lambda=1,\n",
       "                                     scale_pos_weight=1, seed=0, silent=True,\n",
       "                                     subsample=1),\n",
       "             iid='warn', n_jobs=-1,\n",
       "             param_grid={'learning_rate': [0.1, 0.01],\n",
       "                         'subsample': [0.7, 0.8, 0.9]},\n",
       "             pre_dispatch='2*n_jobs', refit=True, return_train_score=False,\n",
       "             scoring='accuracy', verbose=0)"
      ]
     },
     "execution_count": 39,
     "metadata": {},
     "output_type": "execute_result"
    }
   ],
   "source": [
    "cv_params = {'learning_rate': [0.1, 0.01], 'subsample': [0.7,0.8,0.9]}\n",
    "ind_params = {'n_estimators': 1000, 'seed':0, 'colsample_bytree': 0.8, \n",
    "             'objective': 'binary:logistic', 'max_depth': 3, 'min_child_weight': 1}\n",
    "\n",
    "\n",
    "optimized_GBM = GridSearchCV(XGBClassifier(**ind_params), \n",
    "                            cv_params, \n",
    "                             scoring = 'accuracy', cv = 5, n_jobs = -1)\n",
    "optimized_GBM.fit(X_train, y_train)"
   ]
  },
  {
   "cell_type": "code",
   "execution_count": 40,
   "metadata": {},
   "outputs": [
    {
     "name": "stdout",
     "output_type": "stream",
     "text": [
      "{'learning_rate': 0.01, 'subsample': 0.7}\n",
      "0.7857142857142857\n"
     ]
    }
   ],
   "source": [
    "print(optimized_GBM.best_params_)\n",
    "print(optimized_GBM.best_score_)"
   ]
  },
  {
   "cell_type": "code",
   "execution_count": 41,
   "metadata": {},
   "outputs": [],
   "source": [
    "xgbc_opt = XGBClassifier(max_depth=3, min_child_weight=1, learning_rate=0.1, subsample=0.7)\n",
    "xgbc_opt.fit(X_train, y_train);"
   ]
  },
  {
   "cell_type": "code",
   "execution_count": 42,
   "metadata": {},
   "outputs": [
    {
     "data": {
      "text/plain": [
       "0.5"
      ]
     },
     "execution_count": 42,
     "metadata": {},
     "output_type": "execute_result"
    }
   ],
   "source": [
    "pred_holdout_xgbc_opt = xgbc_opt.predict(X_holdout)\n",
    "accuracy_score(y_holdout, pred_holdout_xgbc)"
   ]
  },
  {
   "cell_type": "code",
   "execution_count": 43,
   "metadata": {},
   "outputs": [],
   "source": [
    "from sklearn.model_selection import RandomizedSearchCV\n",
    "from sklearn.model_selection import GridSearchCV\n",
    "from time import time\n",
    "from scipy.stats import randint as sp_randint"
   ]
  },
  {
   "cell_type": "markdown",
   "metadata": {},
   "source": [
    "#### Step 1: Tune max_depth and min_child_weight"
   ]
  },
  {
   "cell_type": "code",
   "execution_count": 44,
   "metadata": {},
   "outputs": [],
   "source": [
    "# Utility function to report best scores\n",
    "def report(results, n_top=3):\n",
    "    for i in range(1, n_top + 1):\n",
    "        candidates = np.flatnonzero(results['rank_test_score'] == i)\n",
    "        for candidate in candidates:\n",
    "            print(\"Model with rank: {0}\".format(i))\n",
    "            print(\"Mean validation score: {0:.5f} (std: {1:.5f})\".format(\n",
    "                  results['mean_test_score'][candidate],\n",
    "                  results['std_test_score'][candidate]))\n",
    "            print(\"Parameters: {0}\".format(results['params'][candidate]))\n",
    "            print(\"\")\n",
    "\n",
    "    return"
   ]
  },
  {
   "cell_type": "code",
   "execution_count": 45,
   "metadata": {},
   "outputs": [
    {
     "name": "stdout",
     "output_type": "stream",
     "text": [
      "Fitting 5 folds for each of 25 candidates, totalling 125 fits\n"
     ]
    },
    {
     "name": "stderr",
     "output_type": "stream",
     "text": [
      "[Parallel(n_jobs=4)]: Using backend LokyBackend with 4 concurrent workers.\n"
     ]
    },
    {
     "name": "stdout",
     "output_type": "stream",
     "text": [
      "RandomizedSearchCV took 2.16 seconds for 25 candidates parameter settings.\n",
      "Model with rank: 1\n",
      "Mean validation score: -0.35714 (std: 0.29451)\n",
      "Parameters: {'max_depth': 9, 'min_child_weight': 1}\n",
      "\n",
      "Model with rank: 1\n",
      "Mean validation score: -0.35714 (std: 0.29451)\n",
      "Parameters: {'max_depth': 4, 'min_child_weight': 1}\n",
      "\n",
      "Model with rank: 1\n",
      "Mean validation score: -0.35714 (std: 0.29451)\n",
      "Parameters: {'max_depth': 8, 'min_child_weight': 1}\n",
      "\n"
     ]
    },
    {
     "name": "stderr",
     "output_type": "stream",
     "text": [
      "[Parallel(n_jobs=4)]: Done 125 out of 125 | elapsed:    2.1s finished\n",
      "/home/andrey/anaconda3/envs/env36/lib/python3.6/site-packages/sklearn/model_selection/_search.py:813: DeprecationWarning: The default of the `iid` parameter will change from True to False in version 0.22 and will be removed in 0.24. This will change numeric results when test-set sizes are unequal.\n",
      "  DeprecationWarning)\n"
     ]
    }
   ],
   "source": [
    "fixed_params_rd1 = {\n",
    "    'n_estimators': 500\n",
    "}\n",
    "\n",
    "# specify parameters and distributions to sample from\n",
    "cv_params_rd1 = {\"max_depth\": sp_randint(3,11),\n",
    "                 \"min_child_weight\": sp_randint(1,6)}\n",
    "\n",
    "# randomized search\n",
    "n_iter_search = 25\n",
    "optimized_XGB = RandomizedSearchCV(XGBClassifier(**fixed_params_rd1),\n",
    "                               cv_params_rd1,\n",
    "                               scoring = 'neg_mean_squared_error',\n",
    "                               cv = 5,\n",
    "                               n_iter = n_iter_search,\n",
    "                               n_jobs = 4,\n",
    "                               verbose = 1)\n",
    "\n",
    "\n",
    "start = time()\n",
    "\n",
    "optimized_XGB.fit(X_train, y_train)\n",
    "\n",
    "print(\"RandomizedSearchCV took %.2f seconds for %d candidates\"\n",
    "      \" parameter settings.\" % ((time() - start), n_iter_search))\n",
    "report(optimized_XGB.cv_results_)"
   ]
  },
  {
   "cell_type": "markdown",
   "metadata": {},
   "source": [
    "#### Tune gamma"
   ]
  },
  {
   "cell_type": "code",
   "execution_count": 46,
   "metadata": {},
   "outputs": [
    {
     "name": "stderr",
     "output_type": "stream",
     "text": [
      "[Parallel(n_jobs=4)]: Using backend LokyBackend with 4 concurrent workers.\n"
     ]
    },
    {
     "name": "stdout",
     "output_type": "stream",
     "text": [
      "Fitting 5 folds for each of 15 candidates, totalling 75 fits\n",
      "RandomizedSearchCV took 1.31 seconds for 15 candidates parameter settings.\n"
     ]
    },
    {
     "name": "stderr",
     "output_type": "stream",
     "text": [
      "[Parallel(n_jobs=4)]: Done  68 out of  75 | elapsed:    1.2s remaining:    0.1s\n",
      "[Parallel(n_jobs=4)]: Done  75 out of  75 | elapsed:    1.3s finished\n"
     ]
    }
   ],
   "source": [
    "from scipy.stats import uniform as sp_uniform\n",
    "fixed_params_rd2 = {\n",
    "    'n_estimators': 500,\n",
    "    \"max_depth\": 3,\n",
    "    \"min_child_weight\": 6\n",
    "}\n",
    "\n",
    "# specify parameters and distributions to sample from\n",
    "rvs = sp_uniform(0.,0.3)\n",
    "cv_params_rd2 = {\"gamma\": rvs}\n",
    "\n",
    "# randomized search\n",
    "n_iter_search = 15\n",
    "optimized_XGB = RandomizedSearchCV(XGBClassifier(**fixed_params_rd2),\n",
    "                               cv_params_rd2,\n",
    "                               scoring = 'neg_mean_squared_error',\n",
    "                               cv = 5,\n",
    "                               n_iter = n_iter_search,\n",
    "                               n_jobs = 4,\n",
    "                               verbose = 1)\n",
    "\n",
    "\n",
    "start = time()\n",
    "\n",
    "optimized_XGB.fit(X_train, y_train)\n",
    "\n",
    "print(\"RandomizedSearchCV took %.2f seconds for %d candidates\"\n",
    "      \" parameter settings.\" % ((time() - start), n_iter_search))"
   ]
  },
  {
   "cell_type": "code",
   "execution_count": 47,
   "metadata": {},
   "outputs": [
    {
     "name": "stdout",
     "output_type": "stream",
     "text": [
      "Model with rank: 1\n",
      "Mean validation score: -0.50000 (std: 0.00000)\n",
      "Parameters: {'gamma': 0.18302819102885612}\n",
      "\n",
      "Model with rank: 1\n",
      "Mean validation score: -0.50000 (std: 0.00000)\n",
      "Parameters: {'gamma': 0.065988925998143}\n",
      "\n",
      "Model with rank: 1\n",
      "Mean validation score: -0.50000 (std: 0.00000)\n",
      "Parameters: {'gamma': 0.08517109842350347}\n",
      "\n",
      "Model with rank: 1\n",
      "Mean validation score: -0.50000 (std: 0.00000)\n",
      "Parameters: {'gamma': 0.28348151280054773}\n",
      "\n",
      "Model with rank: 1\n",
      "Mean validation score: -0.50000 (std: 0.00000)\n",
      "Parameters: {'gamma': 0.23651376770194227}\n",
      "\n",
      "Model with rank: 1\n",
      "Mean validation score: -0.50000 (std: 0.00000)\n",
      "Parameters: {'gamma': 0.24790147468878368}\n",
      "\n",
      "Model with rank: 1\n",
      "Mean validation score: -0.50000 (std: 0.00000)\n",
      "Parameters: {'gamma': 0.2719915568755403}\n",
      "\n",
      "Model with rank: 1\n",
      "Mean validation score: -0.50000 (std: 0.00000)\n",
      "Parameters: {'gamma': 0.19194177084499797}\n",
      "\n",
      "Model with rank: 1\n",
      "Mean validation score: -0.50000 (std: 0.00000)\n",
      "Parameters: {'gamma': 0.28741959822475344}\n",
      "\n",
      "Model with rank: 1\n",
      "Mean validation score: -0.50000 (std: 0.00000)\n",
      "Parameters: {'gamma': 0.04842954907706547}\n",
      "\n",
      "Model with rank: 1\n",
      "Mean validation score: -0.50000 (std: 0.00000)\n",
      "Parameters: {'gamma': 0.2949390008503143}\n",
      "\n",
      "Model with rank: 1\n",
      "Mean validation score: -0.50000 (std: 0.00000)\n",
      "Parameters: {'gamma': 0.024539937831730196}\n",
      "\n",
      "Model with rank: 1\n",
      "Mean validation score: -0.50000 (std: 0.00000)\n",
      "Parameters: {'gamma': 0.19966819389540508}\n",
      "\n",
      "Model with rank: 1\n",
      "Mean validation score: -0.50000 (std: 0.00000)\n",
      "Parameters: {'gamma': 0.15832499689465923}\n",
      "\n",
      "Model with rank: 1\n",
      "Mean validation score: -0.50000 (std: 0.00000)\n",
      "Parameters: {'gamma': 0.13557361864824355}\n",
      "\n"
     ]
    }
   ],
   "source": [
    "report(optimized_XGB.cv_results_)"
   ]
  },
  {
   "cell_type": "markdown",
   "metadata": {},
   "source": [
    "#### Tune subsample and colsample_bytree"
   ]
  },
  {
   "cell_type": "code",
   "execution_count": 48,
   "metadata": {},
   "outputs": [
    {
     "name": "stderr",
     "output_type": "stream",
     "text": [
      "[Parallel(n_jobs=4)]: Using backend LokyBackend with 4 concurrent workers.\n"
     ]
    },
    {
     "name": "stdout",
     "output_type": "stream",
     "text": [
      "Fitting 5 folds for each of 50 candidates, totalling 250 fits\n"
     ]
    },
    {
     "name": "stderr",
     "output_type": "stream",
     "text": [
      "[Parallel(n_jobs=4)]: Done 144 tasks      | elapsed:    2.6s\n"
     ]
    },
    {
     "name": "stdout",
     "output_type": "stream",
     "text": [
      "RandomizedSearchCV took 4.53 seconds for 50 candidates parameter settings.\n",
      "Model with rank: 1\n",
      "Mean validation score: -0.50000 (std: 0.00000)\n",
      "Parameters: {'colsample_bytree': 0.76941352173128, 'subsample': 0.6987974514420823}\n",
      "\n",
      "Model with rank: 1\n",
      "Mean validation score: -0.50000 (std: 0.00000)\n",
      "Parameters: {'colsample_bytree': 0.6438433680224384, 'subsample': 0.969339862578239}\n",
      "\n",
      "Model with rank: 1\n",
      "Mean validation score: -0.50000 (std: 0.00000)\n",
      "Parameters: {'colsample_bytree': 0.7003606657587043, 'subsample': 0.8143265063201174}\n",
      "\n",
      "Model with rank: 1\n",
      "Mean validation score: -0.50000 (std: 0.00000)\n",
      "Parameters: {'colsample_bytree': 0.9082345379482861, 'subsample': 0.8483203478531486}\n",
      "\n",
      "Model with rank: 1\n",
      "Mean validation score: -0.50000 (std: 0.00000)\n",
      "Parameters: {'colsample_bytree': 0.9150832574022808, 'subsample': 0.6458437491897856}\n",
      "\n",
      "Model with rank: 1\n",
      "Mean validation score: -0.50000 (std: 0.00000)\n",
      "Parameters: {'colsample_bytree': 0.9362958725003898, 'subsample': 0.8575911966440829}\n",
      "\n",
      "Model with rank: 1\n",
      "Mean validation score: -0.50000 (std: 0.00000)\n",
      "Parameters: {'colsample_bytree': 0.9945269045600841, 'subsample': 0.6704708493894885}\n",
      "\n",
      "Model with rank: 1\n",
      "Mean validation score: -0.50000 (std: 0.00000)\n",
      "Parameters: {'colsample_bytree': 0.678120973149616, 'subsample': 0.8346315982154792}\n",
      "\n",
      "Model with rank: 1\n",
      "Mean validation score: -0.50000 (std: 0.00000)\n",
      "Parameters: {'colsample_bytree': 0.6922007229763649, 'subsample': 0.658316140403019}\n",
      "\n",
      "Model with rank: 1\n",
      "Mean validation score: -0.50000 (std: 0.00000)\n",
      "Parameters: {'colsample_bytree': 0.6670519577485797, 'subsample': 0.6391168679935408}\n",
      "\n",
      "Model with rank: 1\n",
      "Mean validation score: -0.50000 (std: 0.00000)\n",
      "Parameters: {'colsample_bytree': 0.8594873492670603, 'subsample': 0.8127632390789682}\n",
      "\n",
      "Model with rank: 1\n",
      "Mean validation score: -0.50000 (std: 0.00000)\n",
      "Parameters: {'colsample_bytree': 0.7295925803394756, 'subsample': 0.9473916666751722}\n",
      "\n",
      "Model with rank: 1\n",
      "Mean validation score: -0.50000 (std: 0.00000)\n",
      "Parameters: {'colsample_bytree': 0.6732852534610997, 'subsample': 0.7879941065547181}\n",
      "\n",
      "Model with rank: 1\n",
      "Mean validation score: -0.50000 (std: 0.00000)\n",
      "Parameters: {'colsample_bytree': 0.6822879044880019, 'subsample': 0.8144251051510314}\n",
      "\n",
      "Model with rank: 1\n",
      "Mean validation score: -0.50000 (std: 0.00000)\n",
      "Parameters: {'colsample_bytree': 0.7397861888372524, 'subsample': 0.8151449102930847}\n",
      "\n",
      "Model with rank: 1\n",
      "Mean validation score: -0.50000 (std: 0.00000)\n",
      "Parameters: {'colsample_bytree': 0.641897525816788, 'subsample': 0.9545072879882845}\n",
      "\n",
      "Model with rank: 1\n",
      "Mean validation score: -0.50000 (std: 0.00000)\n",
      "Parameters: {'colsample_bytree': 0.6559897921536743, 'subsample': 0.7991343193512664}\n",
      "\n",
      "Model with rank: 1\n",
      "Mean validation score: -0.50000 (std: 0.00000)\n",
      "Parameters: {'colsample_bytree': 0.8315318832940205, 'subsample': 0.9086369675390698}\n",
      "\n",
      "Model with rank: 1\n",
      "Mean validation score: -0.50000 (std: 0.00000)\n",
      "Parameters: {'colsample_bytree': 0.9306560308138488, 'subsample': 0.7912016175082393}\n",
      "\n",
      "Model with rank: 1\n",
      "Mean validation score: -0.50000 (std: 0.00000)\n",
      "Parameters: {'colsample_bytree': 0.6972525502191352, 'subsample': 0.8627322468458336}\n",
      "\n",
      "Model with rank: 1\n",
      "Mean validation score: -0.50000 (std: 0.00000)\n",
      "Parameters: {'colsample_bytree': 0.9236549663861825, 'subsample': 0.8838343055892072}\n",
      "\n",
      "Model with rank: 1\n",
      "Mean validation score: -0.50000 (std: 0.00000)\n",
      "Parameters: {'colsample_bytree': 0.6474590641332032, 'subsample': 0.9396006280546962}\n",
      "\n",
      "Model with rank: 1\n",
      "Mean validation score: -0.50000 (std: 0.00000)\n",
      "Parameters: {'colsample_bytree': 0.9527110232538198, 'subsample': 0.6057095637686009}\n",
      "\n",
      "Model with rank: 1\n",
      "Mean validation score: -0.50000 (std: 0.00000)\n",
      "Parameters: {'colsample_bytree': 0.7582191276423219, 'subsample': 0.9276460499973217}\n",
      "\n",
      "Model with rank: 1\n",
      "Mean validation score: -0.50000 (std: 0.00000)\n",
      "Parameters: {'colsample_bytree': 0.8241430034719566, 'subsample': 0.6954823011621845}\n",
      "\n",
      "Model with rank: 1\n",
      "Mean validation score: -0.50000 (std: 0.00000)\n",
      "Parameters: {'colsample_bytree': 0.8374245426677929, 'subsample': 0.7564296321699466}\n",
      "\n",
      "Model with rank: 1\n",
      "Mean validation score: -0.50000 (std: 0.00000)\n",
      "Parameters: {'colsample_bytree': 0.6604483719364285, 'subsample': 0.9601204111559616}\n",
      "\n",
      "Model with rank: 1\n",
      "Mean validation score: -0.50000 (std: 0.00000)\n",
      "Parameters: {'colsample_bytree': 0.7600508633456069, 'subsample': 0.8528375177945715}\n",
      "\n",
      "Model with rank: 1\n",
      "Mean validation score: -0.50000 (std: 0.00000)\n",
      "Parameters: {'colsample_bytree': 0.9144559008133556, 'subsample': 0.8173731696135255}\n",
      "\n",
      "Model with rank: 1\n",
      "Mean validation score: -0.50000 (std: 0.00000)\n",
      "Parameters: {'colsample_bytree': 0.8345106643479799, 'subsample': 0.6643607214334103}\n",
      "\n",
      "Model with rank: 1\n",
      "Mean validation score: -0.50000 (std: 0.00000)\n",
      "Parameters: {'colsample_bytree': 0.7261181838257262, 'subsample': 0.8478809842611634}\n",
      "\n",
      "Model with rank: 1\n",
      "Mean validation score: -0.50000 (std: 0.00000)\n",
      "Parameters: {'colsample_bytree': 0.7425509391554068, 'subsample': 0.6252991340938042}\n",
      "\n",
      "Model with rank: 1\n",
      "Mean validation score: -0.50000 (std: 0.00000)\n",
      "Parameters: {'colsample_bytree': 0.7785503981531902, 'subsample': 0.6205063118379393}\n",
      "\n",
      "Model with rank: 1\n",
      "Mean validation score: -0.50000 (std: 0.00000)\n",
      "Parameters: {'colsample_bytree': 0.696659936513508, 'subsample': 0.9551582401755105}\n",
      "\n",
      "Model with rank: 1\n",
      "Mean validation score: -0.50000 (std: 0.00000)\n",
      "Parameters: {'colsample_bytree': 0.9801085882688696, 'subsample': 0.9252351609597756}\n",
      "\n",
      "Model with rank: 1\n",
      "Mean validation score: -0.50000 (std: 0.00000)\n",
      "Parameters: {'colsample_bytree': 0.635186797891942, 'subsample': 0.8323437777282662}\n",
      "\n",
      "Model with rank: 1\n",
      "Mean validation score: -0.50000 (std: 0.00000)\n",
      "Parameters: {'colsample_bytree': 0.7084188046985797, 'subsample': 0.9430653601447987}\n",
      "\n",
      "Model with rank: 1\n",
      "Mean validation score: -0.50000 (std: 0.00000)\n",
      "Parameters: {'colsample_bytree': 0.9520237364877615, 'subsample': 0.7511804866915106}\n",
      "\n",
      "Model with rank: 1\n",
      "Mean validation score: -0.50000 (std: 0.00000)\n",
      "Parameters: {'colsample_bytree': 0.9337781758130703, 'subsample': 0.8118616777370555}\n",
      "\n",
      "Model with rank: 1\n",
      "Mean validation score: -0.50000 (std: 0.00000)\n",
      "Parameters: {'colsample_bytree': 0.8734882636924277, 'subsample': 0.8915469497766211}\n",
      "\n",
      "Model with rank: 1\n",
      "Mean validation score: -0.50000 (std: 0.00000)\n",
      "Parameters: {'colsample_bytree': 0.6147500820218286, 'subsample': 0.8832629215040082}\n",
      "\n",
      "Model with rank: 1\n",
      "Mean validation score: -0.50000 (std: 0.00000)\n",
      "Parameters: {'colsample_bytree': 0.8090062420565828, 'subsample': 0.6548610204026982}\n",
      "\n",
      "Model with rank: 1\n",
      "Mean validation score: -0.50000 (std: 0.00000)\n",
      "Parameters: {'colsample_bytree': 0.796558096150136, 'subsample': 0.6990949205707536}\n",
      "\n",
      "Model with rank: 1\n",
      "Mean validation score: -0.50000 (std: 0.00000)\n",
      "Parameters: {'colsample_bytree': 0.6554859018885365, 'subsample': 0.9680651114484947}\n",
      "\n",
      "Model with rank: 1\n",
      "Mean validation score: -0.50000 (std: 0.00000)\n",
      "Parameters: {'colsample_bytree': 0.968297697577801, 'subsample': 0.6802548396392655}\n",
      "\n",
      "Model with rank: 1\n",
      "Mean validation score: -0.50000 (std: 0.00000)\n",
      "Parameters: {'colsample_bytree': 0.6522072761801221, 'subsample': 0.6948467768250219}\n",
      "\n",
      "Model with rank: 1\n",
      "Mean validation score: -0.50000 (std: 0.00000)\n",
      "Parameters: {'colsample_bytree': 0.7898514479783698, 'subsample': 0.9838979790525555}\n",
      "\n",
      "Model with rank: 1\n",
      "Mean validation score: -0.50000 (std: 0.00000)\n",
      "Parameters: {'colsample_bytree': 0.7233487797559126, 'subsample': 0.9288404137003734}\n",
      "\n",
      "Model with rank: 1\n",
      "Mean validation score: -0.50000 (std: 0.00000)\n",
      "Parameters: {'colsample_bytree': 0.6912614305943756, 'subsample': 0.7189732911195941}\n",
      "\n",
      "Model with rank: 1\n",
      "Mean validation score: -0.50000 (std: 0.00000)\n",
      "Parameters: {'colsample_bytree': 0.9973924690828373, 'subsample': 0.938070181672303}\n",
      "\n"
     ]
    },
    {
     "name": "stderr",
     "output_type": "stream",
     "text": [
      "[Parallel(n_jobs=4)]: Done 250 out of 250 | elapsed:    4.5s finished\n"
     ]
    }
   ],
   "source": [
    "fixed_params_rd3 = {\n",
    "    'n_estimators': 500,\n",
    "    \"max_depth\": 3,\n",
    "    \"min_child_weight\": 6, \n",
    "    'gamma': 0.122\n",
    "}\n",
    "\n",
    "# specify parameters and distributions to sample from\n",
    "rvs_1 = sp_uniform(0.6,0.4)\n",
    "rvs_2 = sp_uniform(0.6,0.4)\n",
    "cv_params_rd3 = {\"subsample\": rvs_1,\n",
    "                 \"colsample_bytree\": rvs_2}\n",
    "\n",
    "# randomized search\n",
    "n_iter_search = 50\n",
    "optimized_XGB = RandomizedSearchCV(XGBClassifier(**fixed_params_rd3),\n",
    "                               cv_params_rd3,\n",
    "                               scoring = 'neg_mean_squared_error',\n",
    "                               cv = 5,\n",
    "                               n_iter = n_iter_search,\n",
    "                               n_jobs = 4,\n",
    "                               verbose = 1)\n",
    "\n",
    "\n",
    "start = time()\n",
    "\n",
    "optimized_XGB.fit(X_train, y_train)\n",
    "\n",
    "print(\"RandomizedSearchCV took %.2f seconds for %d candidates\"\n",
    "      \" parameter settings.\" % ((time() - start), n_iter_search))\n",
    "report(optimized_XGB.cv_results_)"
   ]
  },
  {
   "cell_type": "markdown",
   "metadata": {},
   "source": [
    "#### Tune regularization parameters"
   ]
  },
  {
   "cell_type": "code",
   "execution_count": 49,
   "metadata": {},
   "outputs": [
    {
     "name": "stderr",
     "output_type": "stream",
     "text": [
      "[Parallel(n_jobs=4)]: Using backend LokyBackend with 4 concurrent workers.\n"
     ]
    },
    {
     "name": "stdout",
     "output_type": "stream",
     "text": [
      "Fitting 5 folds for each of 25 candidates, totalling 125 fits\n",
      "GridSearchCV took 1.99 seconds for 25 candidates parameter settings.\n",
      "Model with rank: 1\n",
      "Mean validation score: -0.50000 (std: 0.00000)\n",
      "Parameters: {'reg_alpha': 0, 'reg_lambda': 0.6}\n",
      "\n",
      "Model with rank: 1\n",
      "Mean validation score: -0.50000 (std: 0.00000)\n",
      "Parameters: {'reg_alpha': 0, 'reg_lambda': 0.7}\n",
      "\n",
      "Model with rank: 1\n",
      "Mean validation score: -0.50000 (std: 0.00000)\n",
      "Parameters: {'reg_alpha': 0, 'reg_lambda': 0.8}\n",
      "\n",
      "Model with rank: 1\n",
      "Mean validation score: -0.50000 (std: 0.00000)\n",
      "Parameters: {'reg_alpha': 0, 'reg_lambda': 0.9}\n",
      "\n",
      "Model with rank: 1\n",
      "Mean validation score: -0.50000 (std: 0.00000)\n",
      "Parameters: {'reg_alpha': 0, 'reg_lambda': 1.0}\n",
      "\n",
      "Model with rank: 1\n",
      "Mean validation score: -0.50000 (std: 0.00000)\n",
      "Parameters: {'reg_alpha': 0.001, 'reg_lambda': 0.6}\n",
      "\n",
      "Model with rank: 1\n",
      "Mean validation score: -0.50000 (std: 0.00000)\n",
      "Parameters: {'reg_alpha': 0.001, 'reg_lambda': 0.7}\n",
      "\n",
      "Model with rank: 1\n",
      "Mean validation score: -0.50000 (std: 0.00000)\n",
      "Parameters: {'reg_alpha': 0.001, 'reg_lambda': 0.8}\n",
      "\n",
      "Model with rank: 1\n",
      "Mean validation score: -0.50000 (std: 0.00000)\n",
      "Parameters: {'reg_alpha': 0.001, 'reg_lambda': 0.9}\n",
      "\n",
      "Model with rank: 1\n",
      "Mean validation score: -0.50000 (std: 0.00000)\n",
      "Parameters: {'reg_alpha': 0.001, 'reg_lambda': 1.0}\n",
      "\n",
      "Model with rank: 1\n",
      "Mean validation score: -0.50000 (std: 0.00000)\n",
      "Parameters: {'reg_alpha': 0.005, 'reg_lambda': 0.6}\n",
      "\n",
      "Model with rank: 1\n",
      "Mean validation score: -0.50000 (std: 0.00000)\n",
      "Parameters: {'reg_alpha': 0.005, 'reg_lambda': 0.7}\n",
      "\n",
      "Model with rank: 1\n",
      "Mean validation score: -0.50000 (std: 0.00000)\n",
      "Parameters: {'reg_alpha': 0.005, 'reg_lambda': 0.8}\n",
      "\n",
      "Model with rank: 1\n",
      "Mean validation score: -0.50000 (std: 0.00000)\n",
      "Parameters: {'reg_alpha': 0.005, 'reg_lambda': 0.9}\n",
      "\n",
      "Model with rank: 1\n",
      "Mean validation score: -0.50000 (std: 0.00000)\n",
      "Parameters: {'reg_alpha': 0.005, 'reg_lambda': 1.0}\n",
      "\n",
      "Model with rank: 1\n",
      "Mean validation score: -0.50000 (std: 0.00000)\n",
      "Parameters: {'reg_alpha': 0.01, 'reg_lambda': 0.6}\n",
      "\n",
      "Model with rank: 1\n",
      "Mean validation score: -0.50000 (std: 0.00000)\n",
      "Parameters: {'reg_alpha': 0.01, 'reg_lambda': 0.7}\n",
      "\n",
      "Model with rank: 1\n",
      "Mean validation score: -0.50000 (std: 0.00000)\n",
      "Parameters: {'reg_alpha': 0.01, 'reg_lambda': 0.8}\n",
      "\n",
      "Model with rank: 1\n",
      "Mean validation score: -0.50000 (std: 0.00000)\n",
      "Parameters: {'reg_alpha': 0.01, 'reg_lambda': 0.9}\n",
      "\n",
      "Model with rank: 1\n",
      "Mean validation score: -0.50000 (std: 0.00000)\n",
      "Parameters: {'reg_alpha': 0.01, 'reg_lambda': 1.0}\n",
      "\n",
      "Model with rank: 1\n",
      "Mean validation score: -0.50000 (std: 0.00000)\n",
      "Parameters: {'reg_alpha': 0.05, 'reg_lambda': 0.6}\n",
      "\n",
      "Model with rank: 1\n",
      "Mean validation score: -0.50000 (std: 0.00000)\n",
      "Parameters: {'reg_alpha': 0.05, 'reg_lambda': 0.7}\n",
      "\n",
      "Model with rank: 1\n",
      "Mean validation score: -0.50000 (std: 0.00000)\n",
      "Parameters: {'reg_alpha': 0.05, 'reg_lambda': 0.8}\n",
      "\n",
      "Model with rank: 1\n",
      "Mean validation score: -0.50000 (std: 0.00000)\n",
      "Parameters: {'reg_alpha': 0.05, 'reg_lambda': 0.9}\n",
      "\n",
      "Model with rank: 1\n",
      "Mean validation score: -0.50000 (std: 0.00000)\n",
      "Parameters: {'reg_alpha': 0.05, 'reg_lambda': 1.0}\n",
      "\n"
     ]
    },
    {
     "name": "stderr",
     "output_type": "stream",
     "text": [
      "[Parallel(n_jobs=4)]: Done 125 out of 125 | elapsed:    1.9s finished\n"
     ]
    }
   ],
   "source": [
    "fixed_params_rd4 = {\n",
    "    'n_estimators': 500,\n",
    "    'subsample': 0.917,\n",
    "    'colsample_bytree': 0.631,\n",
    "    \"max_depth\": 3,\n",
    "    \"min_child_weight\": 6,\n",
    "    'gamma': 0.122\n",
    "}\n",
    "\n",
    "# specify parameters to search across\n",
    "cv_params_rd4 = {'reg_alpha':[0, 0.001, 0.005, 0.01, 0.05],\n",
    "                 'reg_lambda': [0.6, 0.7, 0.8, 0.9, 1.]}\n",
    "\n",
    "# grid search\n",
    "optimized_XGB = GridSearchCV(XGBClassifier(**fixed_params_rd4),\n",
    "                         cv_params_rd4,\n",
    "                         scoring = 'neg_mean_squared_error',\n",
    "                         cv = 5,\n",
    "                         n_jobs = 4,\n",
    "                         verbose = 1)\n",
    "\n",
    "\n",
    "start = time()\n",
    "\n",
    "optimized_XGB.fit(X_train, y_train)\n",
    "\n",
    "print(\"GridSearchCV took %.2f seconds for %d candidates\"\n",
    "      \" parameter settings.\" % ((time() - start), 25)) #25 = number of reg_alpha * number of reg_lambda entries\n",
    "\n",
    "report(optimized_XGB.cv_results_)\n"
   ]
  },
  {
   "cell_type": "markdown",
   "metadata": {},
   "source": [
    "#### Tune learning_rate"
   ]
  },
  {
   "cell_type": "code",
   "execution_count": 50,
   "metadata": {},
   "outputs": [
    {
     "name": "stderr",
     "output_type": "stream",
     "text": [
      "[Parallel(n_jobs=4)]: Using backend LokyBackend with 4 concurrent workers.\n"
     ]
    },
    {
     "name": "stdout",
     "output_type": "stream",
     "text": [
      "Fitting 5 folds for each of 20 candidates, totalling 100 fits\n",
      "RandomizedSearchCV took 1.68 seconds for 20 candidates parameter settings.\n",
      "Model with rank: 1\n",
      "Mean validation score: -0.50000 (std: 0.00000)\n",
      "Parameters: {'learning_rate': 0.09725826721288826}\n",
      "\n",
      "Model with rank: 1\n",
      "Mean validation score: -0.50000 (std: 0.00000)\n",
      "Parameters: {'learning_rate': 0.2973260022041909}\n",
      "\n",
      "Model with rank: 1\n",
      "Mean validation score: -0.50000 (std: 0.00000)\n",
      "Parameters: {'learning_rate': 0.03554907940731689}\n",
      "\n",
      "Model with rank: 1\n",
      "Mean validation score: -0.50000 (std: 0.00000)\n",
      "Parameters: {'learning_rate': 0.023924336789571735}\n",
      "\n",
      "Model with rank: 1\n",
      "Mean validation score: -0.50000 (std: 0.00000)\n",
      "Parameters: {'learning_rate': 0.05110347204369988}\n",
      "\n",
      "Model with rank: 1\n",
      "Mean validation score: -0.50000 (std: 0.00000)\n",
      "Parameters: {'learning_rate': 0.020605940329857676}\n",
      "\n",
      "Model with rank: 1\n",
      "Mean validation score: -0.50000 (std: 0.00000)\n",
      "Parameters: {'learning_rate': 0.09218974771369608}\n",
      "\n",
      "Model with rank: 1\n",
      "Mean validation score: -0.50000 (std: 0.00000)\n",
      "Parameters: {'learning_rate': 0.26800312129455295}\n",
      "\n",
      "Model with rank: 1\n",
      "Mean validation score: -0.50000 (std: 0.00000)\n",
      "Parameters: {'learning_rate': 0.07676206180085046}\n",
      "\n",
      "Model with rank: 1\n",
      "Mean validation score: -0.50000 (std: 0.00000)\n",
      "Parameters: {'learning_rate': 0.3471758986932605}\n",
      "\n",
      "Model with rank: 1\n",
      "Mean validation score: -0.50000 (std: 0.00000)\n",
      "Parameters: {'learning_rate': 0.09154269924741813}\n",
      "\n",
      "Model with rank: 1\n",
      "Mean validation score: -0.50000 (std: 0.00000)\n",
      "Parameters: {'learning_rate': 0.16514606581582592}\n",
      "\n",
      "Model with rank: 1\n",
      "Mean validation score: -0.50000 (std: 0.00000)\n",
      "Parameters: {'learning_rate': 0.38310905032653747}\n",
      "\n",
      "Model with rank: 1\n",
      "Mean validation score: -0.50000 (std: 0.00000)\n",
      "Parameters: {'learning_rate': 0.335138178767586}\n",
      "\n",
      "Model with rank: 1\n",
      "Mean validation score: -0.50000 (std: 0.00000)\n",
      "Parameters: {'learning_rate': 0.029802532666618368}\n",
      "\n",
      "Model with rank: 1\n",
      "Mean validation score: -0.50000 (std: 0.00000)\n",
      "Parameters: {'learning_rate': 0.04461093828150496}\n",
      "\n",
      "Model with rank: 1\n",
      "Mean validation score: -0.50000 (std: 0.00000)\n",
      "Parameters: {'learning_rate': 0.24871606322626647}\n",
      "\n",
      "Model with rank: 1\n",
      "Mean validation score: -0.50000 (std: 0.00000)\n",
      "Parameters: {'learning_rate': 0.08302404197945566}\n",
      "\n",
      "Model with rank: 1\n",
      "Mean validation score: -0.50000 (std: 0.00000)\n",
      "Parameters: {'learning_rate': 0.3500966359542583}\n",
      "\n",
      "Model with rank: 1\n",
      "Mean validation score: -0.50000 (std: 0.00000)\n",
      "Parameters: {'learning_rate': 0.03945969590217258}\n",
      "\n"
     ]
    },
    {
     "name": "stderr",
     "output_type": "stream",
     "text": [
      "[Parallel(n_jobs=4)]: Done 100 out of 100 | elapsed:    1.6s finished\n"
     ]
    }
   ],
   "source": [
    "fixed_params_rd5 = {\n",
    "    'n_estimators': 500,\n",
    "    'subsample': 0.917,\n",
    "    'colsample_bytree': 0.631,\n",
    "    \"max_depth\": 3,\n",
    "    \"min_child_weight\": 6,\n",
    "    'gamma': 0.122\n",
    "}\n",
    "\n",
    "# specify parameters to search across\n",
    "rvs = sp_uniform(.00001, 0.4)\n",
    "cv_params_rd5 = {'learning_rate': rvs}\n",
    "\n",
    "# randomized search\n",
    "n_iter_search = 20\n",
    "optimized_XGB = RandomizedSearchCV(XGBClassifier(**fixed_params_rd5),\n",
    "                               cv_params_rd5,\n",
    "                               scoring = 'neg_mean_squared_error',\n",
    "                               cv = 5,\n",
    "                               n_iter = n_iter_search,\n",
    "                               n_jobs = 4,\n",
    "                               verbose = 1)\n",
    "\n",
    "\n",
    "start = time()\n",
    "\n",
    "optimized_XGB.fit(X_train, y_train)\n",
    "\n",
    "print(\"RandomizedSearchCV took %.2f seconds for %d candidates\"\n",
    "      \" parameter settings.\" % ((time() - start), n_iter_search))\n",
    "\n",
    "report(optimized_XGB.cv_results_)"
   ]
  },
  {
   "cell_type": "markdown",
   "metadata": {},
   "source": [
    "####  Tune n_estimators"
   ]
  },
  {
   "cell_type": "code",
   "execution_count": 51,
   "metadata": {},
   "outputs": [
    {
     "name": "stderr",
     "output_type": "stream",
     "text": [
      "[Parallel(n_jobs=4)]: Using backend LokyBackend with 4 concurrent workers.\n"
     ]
    },
    {
     "name": "stdout",
     "output_type": "stream",
     "text": [
      "Fitting 5 folds for each of 5 candidates, totalling 25 fits\n",
      "GridSearchCV took 1.32 seconds for 5 candidates parameter settings.\n",
      "Model with rank: 1\n",
      "Mean validation score: -0.50000 (std: 0.00000)\n",
      "Parameters: {'n_estimators': 10}\n",
      "\n",
      "Model with rank: 1\n",
      "Mean validation score: -0.50000 (std: 0.00000)\n",
      "Parameters: {'n_estimators': 100}\n",
      "\n",
      "Model with rank: 1\n",
      "Mean validation score: -0.50000 (std: 0.00000)\n",
      "Parameters: {'n_estimators': 500}\n",
      "\n",
      "Model with rank: 1\n",
      "Mean validation score: -0.50000 (std: 0.00000)\n",
      "Parameters: {'n_estimators': 1000}\n",
      "\n",
      "Model with rank: 1\n",
      "Mean validation score: -0.50000 (std: 0.00000)\n",
      "Parameters: {'n_estimators': 5000}\n",
      "\n"
     ]
    },
    {
     "name": "stderr",
     "output_type": "stream",
     "text": [
      "[Parallel(n_jobs=4)]: Done  25 out of  25 | elapsed:    1.3s finished\n"
     ]
    }
   ],
   "source": [
    "fixed_params_rd6 = {\n",
    "    'learning_rate': 0.0597,\n",
    "    'subsample': 0.917,\n",
    "    'colsample_bytree': 0.631,\n",
    "    \"max_depth\": 3,\n",
    "    \"min_child_weight\": 6,\n",
    "    'gamma': 0.122\n",
    "}\n",
    "\n",
    "# specify parameters to search across\n",
    "cv_params_rd6 = {'n_estimators':[10, 100, 500, 1000, 5000]}\n",
    "\n",
    "# grid search\n",
    "optimized_XGB = GridSearchCV(XGBClassifier(**fixed_params_rd6),\n",
    "                         cv_params_rd6,\n",
    "                         scoring = 'neg_mean_squared_error',\n",
    "                         cv = 5,\n",
    "                         n_jobs = 4,\n",
    "                         verbose = 1)\n",
    "\n",
    "\n",
    "start = time()\n",
    "\n",
    "optimized_XGB.fit(X_train, y_train)\n",
    "\n",
    "print(\"GridSearchCV took %.2f seconds for %d candidates\"\n",
    "      \" parameter settings.\" % ((time() - start), 5)) \n",
    "\n",
    "report(optimized_XGB.cv_results_)"
   ]
  },
  {
   "cell_type": "code",
   "execution_count": null,
   "metadata": {},
   "outputs": [],
   "source": []
  }
 ],
 "metadata": {
  "kernelspec": {
   "display_name": "Python 3",
   "language": "python",
   "name": "python3"
  },
  "language_info": {
   "codemirror_mode": {
    "name": "ipython",
    "version": 3
   },
   "file_extension": ".py",
   "mimetype": "text/x-python",
   "name": "python",
   "nbconvert_exporter": "python",
   "pygments_lexer": "ipython3",
   "version": "3.6.8"
  }
 },
 "nbformat": 4,
 "nbformat_minor": 2
}
