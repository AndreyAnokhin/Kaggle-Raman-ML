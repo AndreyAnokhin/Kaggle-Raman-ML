{
 "cells": [
  {
   "cell_type": "markdown",
   "metadata": {},
   "source": [
    "#### Pipeline"
   ]
  },
  {
   "cell_type": "code",
   "execution_count": 1,
   "metadata": {},
   "outputs": [],
   "source": [
    "import pandas as pd\n",
    "import seaborn as sns\n",
    "from matplotlib import pyplot as plt\n",
    "\n",
    "from sklearn.model_selection import train_test_split\n",
    "from sklearn.metrics import accuracy_score\n",
    "\n",
    "from sklearn.linear_model import LogisticRegression\n",
    "from sklearn.ensemble import RandomForestClassifier\n",
    "from xgboost import XGBClassifier\n",
    "from sklearn import svm\n",
    "\n",
    "from sklearn.model_selection import cross_val_score, StratifiedKFold"
   ]
  },
  {
   "cell_type": "code",
   "execution_count": 2,
   "metadata": {},
   "outputs": [],
   "source": [
    "def raman_ml_pipeline(X, y):\n",
    "    '''Pineline с методами  xgboost, logreg, random forest и SVM'''\n",
    "    X_train, X_holdout, y_train, y_holdout = train_test_split(X, y, test_size=.3, random_state=7)\n",
    "    \n",
    "    logreg = LogisticRegression(random_state=17, solver='lbfgs', max_iter=1000)\n",
    "    logreg.fit(X_train, y_train)\n",
    "    pred_holdout_logreg = logreg.predict(X_holdout)\n",
    "    logreg_accuracy = accuracy_score(y_holdout, pred_holdout_logreg)\n",
    "    \n",
    "    rf_clf = RandomForestClassifier(n_estimators=10, n_jobs=2, random_state=7)\n",
    "    rf_clf.fit(X_train, y_train)\n",
    "    pred_holdout_rf_clf = rf_clf.predict(X_holdout)\n",
    "    rf_accuracy = accuracy_score(y_holdout, pred_holdout_rf_clf)\n",
    "    \n",
    "    xgbc = XGBClassifier()\n",
    "    xgbc.fit(X_train, y_train)\n",
    "    pred_holdout_xgbc = xgbc.predict(X_holdout)\n",
    "    XGB_accuracy = accuracy_score(y_holdout, pred_holdout_xgbc)\n",
    "    \n",
    "    clf_svm = svm.SVC(gamma='scale')\n",
    "    clf_svm.fit(X_train, y_train)\n",
    "    pred_holdout_svm = clf_svm.predict(X_holdout)\n",
    "    svm_accuracy = accuracy_score(y_holdout, pred_holdout_svm)\n",
    "    \n",
    "    accuracy = pd.DataFrame({\n",
    "    'xgboost': [XGB_accuracy],\n",
    "    'logreg': [logreg_accuracy],\n",
    "    'random forest': [rf_accuracy],\n",
    "    'SVM': [svm_accuracy]\n",
    "    }, index=['accuracy'])\n",
    "    \n",
    "    skf = StratifiedKFold(n_splits = 5, random_state=1, shuffle = True)\n",
    "    \n",
    "    svm_cvs = cross_val_score(clf_svm, X, y, scoring='accuracy', cv = skf).mean()\n",
    "    xgb_cvs = cross_val_score(xgbc, X, y, scoring='accuracy', cv = skf).mean()\n",
    "    logreg_cvs = cross_val_score(logreg, X, y, scoring='accuracy', cv = skf).mean()\n",
    "    rf_cvs = cross_val_score(rf_clf, X, y, scoring='accuracy', cv = skf).mean()\n",
    "    \n",
    "    accuracy_cvs = pd.DataFrame({\n",
    "    'xgboost': [xgb_cvs],\n",
    "    'logreg': [logreg_cvs],\n",
    "    'random forest': [rf_cvs],\n",
    "    'SVM': [svm_cvs]\n",
    "    }, index=['cvs_mean'])\n",
    "    accuracy = accuracy.append(accuracy_cvs)\n",
    "    \n",
    "    return accuracy"
   ]
  },
  {
   "cell_type": "code",
   "execution_count": 24,
   "metadata": {},
   "outputs": [],
   "source": [
    "df_earLobe = pd.read_csv(\"datasets/earLobe.csv\")\n",
    "df_innerArm = pd.read_csv(\"datasets/innerArm.csv\")\n",
    "df_thumbNail = pd.read_csv(\"datasets/thumbNail.csv\")\n",
    "df_vein = pd.read_csv(\"datasets/vein.csv\")"
   ]
  },
  {
   "cell_type": "code",
   "execution_count": 25,
   "metadata": {},
   "outputs": [],
   "source": [
    "patientID_earLobe = df_earLobe.pop('patientID')\n",
    "patientID_innerArm = df_innerArm.pop('patientID')\n",
    "patientID_thumbNail = df_thumbNail.pop('patientID')\n",
    "patientID_vein = df_vein.pop('patientID')"
   ]
  },
  {
   "cell_type": "code",
   "execution_count": 26,
   "metadata": {},
   "outputs": [],
   "source": [
    "df_earLobe.drop(0, inplace=True)\n",
    "df_innerArm.drop(0, inplace=True)\n",
    "df_thumbNail.drop(0, inplace=True)\n",
    "df_vein.drop(0, inplace=True)"
   ]
  },
  {
   "cell_type": "code",
   "execution_count": 27,
   "metadata": {},
   "outputs": [],
   "source": [
    "X_earLobe, y_earLobe = df_earLobe.drop('has_DM2', axis=1), df_earLobe['has_DM2']\n",
    "X_innerArm, y_innerArm = df_innerArm.drop('has_DM2', axis=1), df_innerArm['has_DM2']\n",
    "X_thumbNail, y_thumbNail = df_thumbNail.drop('has_DM2', axis=1), df_thumbNail['has_DM2']\n",
    "X_vein, y_vein = df_vein.drop('has_DM2', axis=1), df_vein['has_DM2']"
   ]
  },
  {
   "cell_type": "code",
   "execution_count": 28,
   "metadata": {},
   "outputs": [
    {
     "data": {
      "text/html": [
       "<div>\n",
       "<style scoped>\n",
       "    .dataframe tbody tr th:only-of-type {\n",
       "        vertical-align: middle;\n",
       "    }\n",
       "\n",
       "    .dataframe tbody tr th {\n",
       "        vertical-align: top;\n",
       "    }\n",
       "\n",
       "    .dataframe thead th {\n",
       "        text-align: right;\n",
       "    }\n",
       "</style>\n",
       "<table border=\"1\" class=\"dataframe\">\n",
       "  <thead>\n",
       "    <tr style=\"text-align: right;\">\n",
       "      <th></th>\n",
       "      <th>xgboost</th>\n",
       "      <th>logreg</th>\n",
       "      <th>random forest</th>\n",
       "      <th>SVM</th>\n",
       "    </tr>\n",
       "  </thead>\n",
       "  <tbody>\n",
       "    <tr>\n",
       "      <th>accuracy</th>\n",
       "      <td>0.833333</td>\n",
       "      <td>0.666667</td>\n",
       "      <td>0.666667</td>\n",
       "      <td>0.666667</td>\n",
       "    </tr>\n",
       "    <tr>\n",
       "      <th>cvs_mean</th>\n",
       "      <td>0.613333</td>\n",
       "      <td>0.436667</td>\n",
       "      <td>0.536667</td>\n",
       "      <td>0.553333</td>\n",
       "    </tr>\n",
       "  </tbody>\n",
       "</table>\n",
       "</div>"
      ],
      "text/plain": [
       "           xgboost    logreg  random forest       SVM\n",
       "accuracy  0.833333  0.666667       0.666667  0.666667\n",
       "cvs_mean  0.613333  0.436667       0.536667  0.553333"
      ]
     },
     "execution_count": 28,
     "metadata": {},
     "output_type": "execute_result"
    }
   ],
   "source": [
    "raman_ml_pipeline(X_earLobe, y_earLobe)"
   ]
  },
  {
   "cell_type": "code",
   "execution_count": 29,
   "metadata": {},
   "outputs": [
    {
     "data": {
      "text/html": [
       "<div>\n",
       "<style scoped>\n",
       "    .dataframe tbody tr th:only-of-type {\n",
       "        vertical-align: middle;\n",
       "    }\n",
       "\n",
       "    .dataframe tbody tr th {\n",
       "        vertical-align: top;\n",
       "    }\n",
       "\n",
       "    .dataframe thead th {\n",
       "        text-align: right;\n",
       "    }\n",
       "</style>\n",
       "<table border=\"1\" class=\"dataframe\">\n",
       "  <thead>\n",
       "    <tr style=\"text-align: right;\">\n",
       "      <th></th>\n",
       "      <th>xgboost</th>\n",
       "      <th>logreg</th>\n",
       "      <th>random forest</th>\n",
       "      <th>SVM</th>\n",
       "    </tr>\n",
       "  </thead>\n",
       "  <tbody>\n",
       "    <tr>\n",
       "      <th>accuracy</th>\n",
       "      <td>0.666667</td>\n",
       "      <td>0.833333</td>\n",
       "      <td>0.500000</td>\n",
       "      <td>0.333333</td>\n",
       "    </tr>\n",
       "    <tr>\n",
       "      <th>cvs_mean</th>\n",
       "      <td>0.436667</td>\n",
       "      <td>0.486667</td>\n",
       "      <td>0.386667</td>\n",
       "      <td>0.543333</td>\n",
       "    </tr>\n",
       "  </tbody>\n",
       "</table>\n",
       "</div>"
      ],
      "text/plain": [
       "           xgboost    logreg  random forest       SVM\n",
       "accuracy  0.666667  0.833333       0.500000  0.333333\n",
       "cvs_mean  0.436667  0.486667       0.386667  0.543333"
      ]
     },
     "execution_count": 29,
     "metadata": {},
     "output_type": "execute_result"
    }
   ],
   "source": [
    "raman_ml_pipeline(X_innerArm, y_innerArm)"
   ]
  },
  {
   "cell_type": "code",
   "execution_count": 30,
   "metadata": {},
   "outputs": [
    {
     "data": {
      "text/html": [
       "<div>\n",
       "<style scoped>\n",
       "    .dataframe tbody tr th:only-of-type {\n",
       "        vertical-align: middle;\n",
       "    }\n",
       "\n",
       "    .dataframe tbody tr th {\n",
       "        vertical-align: top;\n",
       "    }\n",
       "\n",
       "    .dataframe thead th {\n",
       "        text-align: right;\n",
       "    }\n",
       "</style>\n",
       "<table border=\"1\" class=\"dataframe\">\n",
       "  <thead>\n",
       "    <tr style=\"text-align: right;\">\n",
       "      <th></th>\n",
       "      <th>xgboost</th>\n",
       "      <th>logreg</th>\n",
       "      <th>random forest</th>\n",
       "      <th>SVM</th>\n",
       "    </tr>\n",
       "  </thead>\n",
       "  <tbody>\n",
       "    <tr>\n",
       "      <th>accuracy</th>\n",
       "      <td>0.500000</td>\n",
       "      <td>0.333333</td>\n",
       "      <td>0.333333</td>\n",
       "      <td>0.500000</td>\n",
       "    </tr>\n",
       "    <tr>\n",
       "      <th>cvs_mean</th>\n",
       "      <td>0.366667</td>\n",
       "      <td>0.216667</td>\n",
       "      <td>0.476667</td>\n",
       "      <td>0.553333</td>\n",
       "    </tr>\n",
       "  </tbody>\n",
       "</table>\n",
       "</div>"
      ],
      "text/plain": [
       "           xgboost    logreg  random forest       SVM\n",
       "accuracy  0.500000  0.333333       0.333333  0.500000\n",
       "cvs_mean  0.366667  0.216667       0.476667  0.553333"
      ]
     },
     "execution_count": 30,
     "metadata": {},
     "output_type": "execute_result"
    }
   ],
   "source": [
    "raman_ml_pipeline(X_thumbNail, y_thumbNail)"
   ]
  },
  {
   "cell_type": "code",
   "execution_count": 31,
   "metadata": {},
   "outputs": [
    {
     "data": {
      "text/html": [
       "<div>\n",
       "<style scoped>\n",
       "    .dataframe tbody tr th:only-of-type {\n",
       "        vertical-align: middle;\n",
       "    }\n",
       "\n",
       "    .dataframe tbody tr th {\n",
       "        vertical-align: top;\n",
       "    }\n",
       "\n",
       "    .dataframe thead th {\n",
       "        text-align: right;\n",
       "    }\n",
       "</style>\n",
       "<table border=\"1\" class=\"dataframe\">\n",
       "  <thead>\n",
       "    <tr style=\"text-align: right;\">\n",
       "      <th></th>\n",
       "      <th>xgboost</th>\n",
       "      <th>logreg</th>\n",
       "      <th>random forest</th>\n",
       "      <th>SVM</th>\n",
       "    </tr>\n",
       "  </thead>\n",
       "  <tbody>\n",
       "    <tr>\n",
       "      <th>accuracy</th>\n",
       "      <td>0.666667</td>\n",
       "      <td>0.666667</td>\n",
       "      <td>0.666667</td>\n",
       "      <td>0.666667</td>\n",
       "    </tr>\n",
       "    <tr>\n",
       "      <th>cvs_mean</th>\n",
       "      <td>0.623333</td>\n",
       "      <td>0.503333</td>\n",
       "      <td>0.503333</td>\n",
       "      <td>0.593333</td>\n",
       "    </tr>\n",
       "  </tbody>\n",
       "</table>\n",
       "</div>"
      ],
      "text/plain": [
       "           xgboost    logreg  random forest       SVM\n",
       "accuracy  0.666667  0.666667       0.666667  0.666667\n",
       "cvs_mean  0.623333  0.503333       0.503333  0.593333"
      ]
     },
     "execution_count": 31,
     "metadata": {},
     "output_type": "execute_result"
    }
   ],
   "source": [
    "raman_ml_pipeline(X_vein, y_vein)"
   ]
  },
  {
   "cell_type": "code",
   "execution_count": null,
   "metadata": {},
   "outputs": [],
   "source": []
  }
 ],
 "metadata": {
  "kernelspec": {
   "display_name": "Python 3",
   "language": "python",
   "name": "python3"
  },
  "language_info": {
   "codemirror_mode": {
    "name": "ipython",
    "version": 3
   },
   "file_extension": ".py",
   "mimetype": "text/x-python",
   "name": "python",
   "nbconvert_exporter": "python",
   "pygments_lexer": "ipython3",
   "version": "3.7.3"
  }
 },
 "nbformat": 4,
 "nbformat_minor": 2
}
