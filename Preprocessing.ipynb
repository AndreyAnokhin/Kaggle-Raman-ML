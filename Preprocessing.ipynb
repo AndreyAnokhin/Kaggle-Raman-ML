{
 "cells": [
  {
   "cell_type": "code",
   "execution_count": 1,
   "metadata": {},
   "outputs": [],
   "source": [
    "%matplotlib widget\n",
    "import pandas as pd\n",
    "import seaborn as sns\n",
    "import numpy as np\n",
    "from matplotlib import pyplot as plt\n",
    "import re\n",
    "import peakutils\n",
    "from sklearn.model_selection import train_test_split\n",
    "from sklearn import preprocessing\n",
    "import scipy.signal"
   ]
  },
  {
   "cell_type": "code",
   "execution_count": 2,
   "metadata": {},
   "outputs": [],
   "source": [
    "from scipy import sparse\n",
    "from scipy.sparse.linalg import spsolve\n",
    "\n",
    "def baseline_als(y, lam, p, niter=10):\n",
    "    \"\"\"Функция для сглаживания спектра методом Asymmetric Least Squares Smoothing\"\"\"\n",
    "    L = len(y)\n",
    "    D = sparse.diags([1,-2,1],[0,-1,-2], shape=(L,L-2))\n",
    "    w = np.ones(L)\n",
    "    for i in range(niter):\n",
    "        W = sparse.spdiags(w, 0, L, L)\n",
    "        Z = W + lam * D.dot(D.transpose())\n",
    "        z = spsolve(Z, w*y)\n",
    "        w = p * (y > z) + (1-p) * (y < z)\n",
    "    return z"
   ]
  },
  {
   "cell_type": "code",
   "execution_count": 3,
   "metadata": {},
   "outputs": [],
   "source": [
    "df = pd.read_csv(\"datasets/earLobe.csv\")\n",
    "#df.head()"
   ]
  },
  {
   "cell_type": "code",
   "execution_count": 4,
   "metadata": {},
   "outputs": [],
   "source": [
    "# df_earLobe = pd.read_csv(\"datasets/earLobe.csv\")\n",
    "# df_innerArm = pd.read_csv(\"datasets/innerArm.csv\")\n",
    "# df_thumbNail = pd.read_csv(\"datasets/thumbNail.csv\")\n",
    "# df_vein = pd.read_csv(\"datasets/vein.csv\")\n",
    "# df = df_earLobe.append([df_innerArm.drop(0, axis=0), df_thumbNail.drop(0, axis=0), df_vein.drop(0, axis=0)])\n",
    "# df.index = range(0, 81)"
   ]
  },
  {
   "cell_type": "code",
   "execution_count": 5,
   "metadata": {},
   "outputs": [],
   "source": [
    "has_DM2 = df.pop('has_DM2')\n",
    "patientID = df.pop('patientID')"
   ]
  },
  {
   "cell_type": "code",
   "execution_count": 6,
   "metadata": {},
   "outputs": [
    {
     "data": {
      "text/html": [
       "<div>\n",
       "<style scoped>\n",
       "    .dataframe tbody tr th:only-of-type {\n",
       "        vertical-align: middle;\n",
       "    }\n",
       "\n",
       "    .dataframe tbody tr th {\n",
       "        vertical-align: top;\n",
       "    }\n",
       "\n",
       "    .dataframe thead th {\n",
       "        text-align: right;\n",
       "    }\n",
       "</style>\n",
       "<table border=\"1\" class=\"dataframe\">\n",
       "  <thead>\n",
       "    <tr style=\"text-align: right;\">\n",
       "      <th></th>\n",
       "      <th>Var2</th>\n",
       "      <th>Var3</th>\n",
       "      <th>Var4</th>\n",
       "      <th>Var5</th>\n",
       "      <th>Var6</th>\n",
       "      <th>Var7</th>\n",
       "      <th>Var8</th>\n",
       "      <th>Var9</th>\n",
       "      <th>Var10</th>\n",
       "      <th>Var11</th>\n",
       "      <th>...</th>\n",
       "      <th>Var3152</th>\n",
       "      <th>Var3153</th>\n",
       "      <th>Var3154</th>\n",
       "      <th>Var3155</th>\n",
       "      <th>Var3156</th>\n",
       "      <th>Var3157</th>\n",
       "      <th>Var3158</th>\n",
       "      <th>Var3159</th>\n",
       "      <th>Var3160</th>\n",
       "      <th>Var3161</th>\n",
       "    </tr>\n",
       "  </thead>\n",
       "  <tbody>\n",
       "    <tr>\n",
       "      <th>0</th>\n",
       "      <td>0.000000</td>\n",
       "      <td>1.000000</td>\n",
       "      <td>2.000000</td>\n",
       "      <td>3.000000</td>\n",
       "      <td>4.000000</td>\n",
       "      <td>5.000000</td>\n",
       "      <td>6.000000</td>\n",
       "      <td>7.000000</td>\n",
       "      <td>8.000000</td>\n",
       "      <td>9.000000</td>\n",
       "      <td>...</td>\n",
       "      <td>3150</td>\n",
       "      <td>3151</td>\n",
       "      <td>3152</td>\n",
       "      <td>3153</td>\n",
       "      <td>3154</td>\n",
       "      <td>3155</td>\n",
       "      <td>3156</td>\n",
       "      <td>3157</td>\n",
       "      <td>3158</td>\n",
       "      <td>3159</td>\n",
       "    </tr>\n",
       "    <tr>\n",
       "      <th>1</th>\n",
       "      <td>181.800000</td>\n",
       "      <td>181.800000</td>\n",
       "      <td>181.800000</td>\n",
       "      <td>181.800000</td>\n",
       "      <td>181.800000</td>\n",
       "      <td>181.800000</td>\n",
       "      <td>181.800000</td>\n",
       "      <td>181.800000</td>\n",
       "      <td>181.800000</td>\n",
       "      <td>181.800000</td>\n",
       "      <td>...</td>\n",
       "      <td>0</td>\n",
       "      <td>0</td>\n",
       "      <td>0</td>\n",
       "      <td>0</td>\n",
       "      <td>0</td>\n",
       "      <td>0</td>\n",
       "      <td>0</td>\n",
       "      <td>0</td>\n",
       "      <td>0</td>\n",
       "      <td>0</td>\n",
       "    </tr>\n",
       "    <tr>\n",
       "      <th>2</th>\n",
       "      <td>162.800000</td>\n",
       "      <td>162.800000</td>\n",
       "      <td>162.800000</td>\n",
       "      <td>162.800000</td>\n",
       "      <td>162.800000</td>\n",
       "      <td>162.800000</td>\n",
       "      <td>162.800000</td>\n",
       "      <td>162.800000</td>\n",
       "      <td>162.800000</td>\n",
       "      <td>162.800000</td>\n",
       "      <td>...</td>\n",
       "      <td>0</td>\n",
       "      <td>0</td>\n",
       "      <td>0</td>\n",
       "      <td>0</td>\n",
       "      <td>0</td>\n",
       "      <td>0</td>\n",
       "      <td>0</td>\n",
       "      <td>0</td>\n",
       "      <td>0</td>\n",
       "      <td>0</td>\n",
       "    </tr>\n",
       "    <tr>\n",
       "      <th>3</th>\n",
       "      <td>107.400000</td>\n",
       "      <td>107.400000</td>\n",
       "      <td>107.400000</td>\n",
       "      <td>107.400000</td>\n",
       "      <td>107.400000</td>\n",
       "      <td>107.400000</td>\n",
       "      <td>107.400000</td>\n",
       "      <td>107.400000</td>\n",
       "      <td>107.400000</td>\n",
       "      <td>107.400000</td>\n",
       "      <td>...</td>\n",
       "      <td>0</td>\n",
       "      <td>0</td>\n",
       "      <td>0</td>\n",
       "      <td>0</td>\n",
       "      <td>0</td>\n",
       "      <td>0</td>\n",
       "      <td>0</td>\n",
       "      <td>0</td>\n",
       "      <td>0</td>\n",
       "      <td>0</td>\n",
       "    </tr>\n",
       "    <tr>\n",
       "      <th>4</th>\n",
       "      <td>290.166667</td>\n",
       "      <td>290.166667</td>\n",
       "      <td>290.166667</td>\n",
       "      <td>290.166667</td>\n",
       "      <td>290.166667</td>\n",
       "      <td>290.166667</td>\n",
       "      <td>290.166667</td>\n",
       "      <td>290.166667</td>\n",
       "      <td>290.166667</td>\n",
       "      <td>290.166667</td>\n",
       "      <td>...</td>\n",
       "      <td>0</td>\n",
       "      <td>0</td>\n",
       "      <td>0</td>\n",
       "      <td>0</td>\n",
       "      <td>0</td>\n",
       "      <td>0</td>\n",
       "      <td>0</td>\n",
       "      <td>0</td>\n",
       "      <td>0</td>\n",
       "      <td>0</td>\n",
       "    </tr>\n",
       "  </tbody>\n",
       "</table>\n",
       "<p>5 rows × 3160 columns</p>\n",
       "</div>"
      ],
      "text/plain": [
       "         Var2        Var3        Var4        Var5        Var6        Var7  \\\n",
       "0    0.000000    1.000000    2.000000    3.000000    4.000000    5.000000   \n",
       "1  181.800000  181.800000  181.800000  181.800000  181.800000  181.800000   \n",
       "2  162.800000  162.800000  162.800000  162.800000  162.800000  162.800000   \n",
       "3  107.400000  107.400000  107.400000  107.400000  107.400000  107.400000   \n",
       "4  290.166667  290.166667  290.166667  290.166667  290.166667  290.166667   \n",
       "\n",
       "         Var8        Var9       Var10       Var11  ...  Var3152  Var3153  \\\n",
       "0    6.000000    7.000000    8.000000    9.000000  ...     3150     3151   \n",
       "1  181.800000  181.800000  181.800000  181.800000  ...        0        0   \n",
       "2  162.800000  162.800000  162.800000  162.800000  ...        0        0   \n",
       "3  107.400000  107.400000  107.400000  107.400000  ...        0        0   \n",
       "4  290.166667  290.166667  290.166667  290.166667  ...        0        0   \n",
       "\n",
       "   Var3154  Var3155  Var3156  Var3157  Var3158  Var3159  Var3160  Var3161  \n",
       "0     3152     3153     3154     3155     3156     3157     3158     3159  \n",
       "1        0        0        0        0        0        0        0        0  \n",
       "2        0        0        0        0        0        0        0        0  \n",
       "3        0        0        0        0        0        0        0        0  \n",
       "4        0        0        0        0        0        0        0        0  \n",
       "\n",
       "[5 rows x 3160 columns]"
      ]
     },
     "execution_count": 6,
     "metadata": {},
     "output_type": "execute_result"
    }
   ],
   "source": [
    "df.head()"
   ]
  },
  {
   "cell_type": "code",
   "execution_count": 7,
   "metadata": {},
   "outputs": [
    {
     "data": {
      "application/vnd.jupyter.widget-view+json": {
       "model_id": "2c5dc36f04434ffa987dfb2ab1d6acb5",
       "version_major": 2,
       "version_minor": 0
      },
      "text/plain": [
       "FigureCanvasNbAgg()"
      ]
     },
     "metadata": {},
     "output_type": "display_data"
    }
   ],
   "source": [
    "plt.plot(df.iloc[0], df.iloc[1]);"
   ]
  },
  {
   "cell_type": "markdown",
   "metadata": {},
   "source": [
    "#### Crop Data to 800-1800 cm^-1 "
   ]
  },
  {
   "cell_type": "code",
   "execution_count": 8,
   "metadata": {},
   "outputs": [],
   "source": [
    "droped_columns = []\n",
    "for col in df.columns:\n",
    "    if int(re.findall(r'\\d+', col)[0]) <= 800 or int(re.findall(r'\\d+', col)[0]) >= 1800:\n",
    "        droped_columns.append(col)"
   ]
  },
  {
   "cell_type": "code",
   "execution_count": 9,
   "metadata": {},
   "outputs": [],
   "source": [
    "df.drop(droped_columns, axis=1, inplace=True)"
   ]
  },
  {
   "cell_type": "code",
   "execution_count": 10,
   "metadata": {},
   "outputs": [
    {
     "data": {
      "text/html": [
       "<div>\n",
       "<style scoped>\n",
       "    .dataframe tbody tr th:only-of-type {\n",
       "        vertical-align: middle;\n",
       "    }\n",
       "\n",
       "    .dataframe tbody tr th {\n",
       "        vertical-align: top;\n",
       "    }\n",
       "\n",
       "    .dataframe thead th {\n",
       "        text-align: right;\n",
       "    }\n",
       "</style>\n",
       "<table border=\"1\" class=\"dataframe\">\n",
       "  <thead>\n",
       "    <tr style=\"text-align: right;\">\n",
       "      <th></th>\n",
       "      <th>Var801</th>\n",
       "      <th>Var802</th>\n",
       "      <th>Var803</th>\n",
       "      <th>Var804</th>\n",
       "      <th>Var805</th>\n",
       "      <th>Var806</th>\n",
       "      <th>Var807</th>\n",
       "      <th>Var808</th>\n",
       "      <th>Var809</th>\n",
       "      <th>Var810</th>\n",
       "      <th>...</th>\n",
       "      <th>Var1790</th>\n",
       "      <th>Var1791</th>\n",
       "      <th>Var1792</th>\n",
       "      <th>Var1793</th>\n",
       "      <th>Var1794</th>\n",
       "      <th>Var1795</th>\n",
       "      <th>Var1796</th>\n",
       "      <th>Var1797</th>\n",
       "      <th>Var1798</th>\n",
       "      <th>Var1799</th>\n",
       "    </tr>\n",
       "  </thead>\n",
       "  <tbody>\n",
       "    <tr>\n",
       "      <th>0</th>\n",
       "      <td>799.000000</td>\n",
       "      <td>800.000000</td>\n",
       "      <td>801.000000</td>\n",
       "      <td>802.000000</td>\n",
       "      <td>803.000000</td>\n",
       "      <td>804.000000</td>\n",
       "      <td>805.000000</td>\n",
       "      <td>806.000000</td>\n",
       "      <td>807.000000</td>\n",
       "      <td>808.000000</td>\n",
       "      <td>...</td>\n",
       "      <td>1788.000000</td>\n",
       "      <td>1789.000000</td>\n",
       "      <td>1790.000000</td>\n",
       "      <td>1791.000000</td>\n",
       "      <td>1792.000000</td>\n",
       "      <td>1793.000000</td>\n",
       "      <td>1794.000000</td>\n",
       "      <td>1795.000000</td>\n",
       "      <td>1796.000000</td>\n",
       "      <td>1797.000000</td>\n",
       "    </tr>\n",
       "    <tr>\n",
       "      <th>1</th>\n",
       "      <td>187.887152</td>\n",
       "      <td>191.185864</td>\n",
       "      <td>195.943112</td>\n",
       "      <td>197.019885</td>\n",
       "      <td>194.774564</td>\n",
       "      <td>192.743616</td>\n",
       "      <td>191.215888</td>\n",
       "      <td>190.194934</td>\n",
       "      <td>195.590097</td>\n",
       "      <td>200.985260</td>\n",
       "      <td>...</td>\n",
       "      <td>51.245700</td>\n",
       "      <td>54.463985</td>\n",
       "      <td>56.393459</td>\n",
       "      <td>49.932257</td>\n",
       "      <td>47.622393</td>\n",
       "      <td>48.354281</td>\n",
       "      <td>51.604005</td>\n",
       "      <td>53.379442</td>\n",
       "      <td>51.303317</td>\n",
       "      <td>50.599999</td>\n",
       "    </tr>\n",
       "    <tr>\n",
       "      <th>2</th>\n",
       "      <td>169.308038</td>\n",
       "      <td>175.024512</td>\n",
       "      <td>183.282382</td>\n",
       "      <td>189.843460</td>\n",
       "      <td>194.872977</td>\n",
       "      <td>195.259000</td>\n",
       "      <td>184.744665</td>\n",
       "      <td>175.342270</td>\n",
       "      <td>180.018082</td>\n",
       "      <td>184.693894</td>\n",
       "      <td>...</td>\n",
       "      <td>58.028577</td>\n",
       "      <td>56.525036</td>\n",
       "      <td>54.495767</td>\n",
       "      <td>52.179488</td>\n",
       "      <td>49.228832</td>\n",
       "      <td>45.813356</td>\n",
       "      <td>48.117433</td>\n",
       "      <td>51.241115</td>\n",
       "      <td>55.393367</td>\n",
       "      <td>55.345582</td>\n",
       "    </tr>\n",
       "    <tr>\n",
       "      <th>3</th>\n",
       "      <td>120.285950</td>\n",
       "      <td>120.814867</td>\n",
       "      <td>122.161259</td>\n",
       "      <td>124.735393</td>\n",
       "      <td>128.417717</td>\n",
       "      <td>129.147617</td>\n",
       "      <td>122.946858</td>\n",
       "      <td>117.390883</td>\n",
       "      <td>119.998546</td>\n",
       "      <td>122.606209</td>\n",
       "      <td>...</td>\n",
       "      <td>27.668530</td>\n",
       "      <td>35.821674</td>\n",
       "      <td>43.497690</td>\n",
       "      <td>39.352768</td>\n",
       "      <td>34.854444</td>\n",
       "      <td>30.097175</td>\n",
       "      <td>28.998998</td>\n",
       "      <td>29.130067</td>\n",
       "      <td>31.572569</td>\n",
       "      <td>35.551240</td>\n",
       "    </tr>\n",
       "    <tr>\n",
       "      <th>4</th>\n",
       "      <td>305.211868</td>\n",
       "      <td>307.784993</td>\n",
       "      <td>313.469754</td>\n",
       "      <td>317.818830</td>\n",
       "      <td>320.962275</td>\n",
       "      <td>321.376920</td>\n",
       "      <td>315.385852</td>\n",
       "      <td>310.069199</td>\n",
       "      <td>313.291306</td>\n",
       "      <td>316.513413</td>\n",
       "      <td>...</td>\n",
       "      <td>65.438088</td>\n",
       "      <td>65.602856</td>\n",
       "      <td>66.066346</td>\n",
       "      <td>66.371121</td>\n",
       "      <td>67.086658</td>\n",
       "      <td>68.103169</td>\n",
       "      <td>66.164164</td>\n",
       "      <td>65.640090</td>\n",
       "      <td>68.896758</td>\n",
       "      <td>68.855319</td>\n",
       "    </tr>\n",
       "  </tbody>\n",
       "</table>\n",
       "<p>5 rows × 999 columns</p>\n",
       "</div>"
      ],
      "text/plain": [
       "       Var801      Var802      Var803      Var804      Var805      Var806  \\\n",
       "0  799.000000  800.000000  801.000000  802.000000  803.000000  804.000000   \n",
       "1  187.887152  191.185864  195.943112  197.019885  194.774564  192.743616   \n",
       "2  169.308038  175.024512  183.282382  189.843460  194.872977  195.259000   \n",
       "3  120.285950  120.814867  122.161259  124.735393  128.417717  129.147617   \n",
       "4  305.211868  307.784993  313.469754  317.818830  320.962275  321.376920   \n",
       "\n",
       "       Var807      Var808      Var809      Var810  ...      Var1790  \\\n",
       "0  805.000000  806.000000  807.000000  808.000000  ...  1788.000000   \n",
       "1  191.215888  190.194934  195.590097  200.985260  ...    51.245700   \n",
       "2  184.744665  175.342270  180.018082  184.693894  ...    58.028577   \n",
       "3  122.946858  117.390883  119.998546  122.606209  ...    27.668530   \n",
       "4  315.385852  310.069199  313.291306  316.513413  ...    65.438088   \n",
       "\n",
       "       Var1791      Var1792      Var1793      Var1794      Var1795  \\\n",
       "0  1789.000000  1790.000000  1791.000000  1792.000000  1793.000000   \n",
       "1    54.463985    56.393459    49.932257    47.622393    48.354281   \n",
       "2    56.525036    54.495767    52.179488    49.228832    45.813356   \n",
       "3    35.821674    43.497690    39.352768    34.854444    30.097175   \n",
       "4    65.602856    66.066346    66.371121    67.086658    68.103169   \n",
       "\n",
       "       Var1796      Var1797      Var1798      Var1799  \n",
       "0  1794.000000  1795.000000  1796.000000  1797.000000  \n",
       "1    51.604005    53.379442    51.303317    50.599999  \n",
       "2    48.117433    51.241115    55.393367    55.345582  \n",
       "3    28.998998    29.130067    31.572569    35.551240  \n",
       "4    66.164164    65.640090    68.896758    68.855319  \n",
       "\n",
       "[5 rows x 999 columns]"
      ]
     },
     "execution_count": 10,
     "metadata": {},
     "output_type": "execute_result"
    }
   ],
   "source": [
    "df.head()"
   ]
  },
  {
   "cell_type": "code",
   "execution_count": 11,
   "metadata": {},
   "outputs": [],
   "source": [
    "# %matplotlib inline\n",
    "# from matplotlib import pyplot as plt\n",
    "\n",
    "plt.plot(df.iloc[0], df.iloc[1]);"
   ]
  },
  {
   "cell_type": "markdown",
   "metadata": {},
   "source": [
    "#### Удаляем cosmic rays"
   ]
  },
  {
   "cell_type": "code",
   "execution_count": 12,
   "metadata": {},
   "outputs": [],
   "source": [
    "columns = list(df.columns)\n",
    "for row in range(1,21):\n",
    "    for n,value in enumerate(columns):\n",
    "        if df[columns[n]][row] < 0 or df[columns[n]][row] > 500:\n",
    "            df[columns[n]][row] = df[columns[n-1]][row]"
   ]
  },
  {
   "cell_type": "code",
   "execution_count": 13,
   "metadata": {},
   "outputs": [],
   "source": [
    "plt.plot(df.iloc[0], df.iloc[10]);"
   ]
  },
  {
   "cell_type": "markdown",
   "metadata": {},
   "source": [
    "#### Делаем коррекцию фона"
   ]
  },
  {
   "cell_type": "code",
   "execution_count": 14,
   "metadata": {},
   "outputs": [],
   "source": [
    "# Baseline removal\n",
    "y1 = df.iloc[10].values\n",
    "baseline_values = peakutils.baseline(y1)\n",
    "\n",
    "plt.plot(y1);\n",
    "plt.plot(baseline_values);\n",
    "plt.plot(y1 - baseline_values);"
   ]
  },
  {
   "cell_type": "code",
   "execution_count": 15,
   "metadata": {},
   "outputs": [],
   "source": [
    "# Применяем коррекцию фону ко всему датасету\n",
    "\n",
    "for row in range(1,21):\n",
    "    baseline_values = peakutils.baseline(df.iloc[row].values)\n",
    "    df.iloc[row] = df.iloc[row].values - baseline_values\n"
   ]
  },
  {
   "cell_type": "markdown",
   "metadata": {},
   "source": [
    "#### Сглаживание спектра"
   ]
  },
  {
   "cell_type": "code",
   "execution_count": 16,
   "metadata": {},
   "outputs": [],
   "source": [
    "# Smoothing with Asymmetric Least Squares\n",
    "p = 0.01\n",
    "lam = 10\n",
    "y1 = df.iloc[10].values\n",
    "y2 = baseline_als(y1, lam, p, niter=10)\n",
    "\n",
    "plt.plot(y1);\n",
    "plt.plot(y2);"
   ]
  },
  {
   "cell_type": "code",
   "execution_count": 17,
   "metadata": {},
   "outputs": [],
   "source": [
    "# Smoothing with a Savitzky-Golay filter\n",
    "y_noise = df.iloc[10].values\n",
    "y_sg = scipy.signal.savgol_filter(y_noise, 31, 5)\n",
    "plt.plot(y_noise);\n",
    "plt.plot(y_sg);"
   ]
  },
  {
   "cell_type": "code",
   "execution_count": 18,
   "metadata": {},
   "outputs": [],
   "source": [
    "# Применяем сглаживание ко всему датасету:\n",
    "\n",
    "for row in range(1,21):\n",
    "    #df.iloc[row] = baseline_als(df.iloc[row], lam, p, niter=10)\n",
    "    df.iloc[row] = scipy.signal.savgol_filter(df.iloc[row], 31, 5)\n",
    "    "
   ]
  },
  {
   "cell_type": "markdown",
   "metadata": {},
   "source": [
    "#### Разделяем данные на матрицу с признаками X и на столбец с целевой переменной (метками)\n",
    "И удаляем первую строку с частотами"
   ]
  },
  {
   "cell_type": "code",
   "execution_count": 19,
   "metadata": {},
   "outputs": [],
   "source": [
    "X, y = df.drop(0), has_DM2.drop(0)"
   ]
  },
  {
   "cell_type": "markdown",
   "metadata": {},
   "source": [
    "#### Оценку качества модели (accuracy)  будем проводить методом отложенной выборки (hold-out set)\n",
    "При таком подходе мы оставляем какую-то долю обучающей выборки (как правило от 20% до 40%), обучаем модель на остальных данных (60-80% исходной выборки) и считаем некоторую метрику качества модели (например, самое простое – долю правильных ответов в задаче классификации) на отложенной выборке."
   ]
  },
  {
   "cell_type": "code",
   "execution_count": 20,
   "metadata": {},
   "outputs": [],
   "source": [
    "X_train, X_holdout, y_train, y_holdout = train_test_split(X, y, test_size=.3, random_state=7)"
   ]
  },
  {
   "cell_type": "code",
   "execution_count": 21,
   "metadata": {},
   "outputs": [
    {
     "data": {
      "text/plain": [
       "(14, 999)"
      ]
     },
     "execution_count": 21,
     "metadata": {},
     "output_type": "execute_result"
    }
   ],
   "source": [
    "X_train.shape"
   ]
  },
  {
   "cell_type": "code",
   "execution_count": 22,
   "metadata": {},
   "outputs": [
    {
     "data": {
      "text/plain": [
       "1.0    0.55\n",
       "0.0    0.45\n",
       "Name: has_DM2, dtype: float64"
      ]
     },
     "execution_count": 22,
     "metadata": {},
     "output_type": "execute_result"
    }
   ],
   "source": [
    "y.value_counts(normalize=True)"
   ]
  },
  {
   "cell_type": "markdown",
   "metadata": {},
   "source": [
    "#### Точность предсказания должна быть лучше как минимум чем 55%"
   ]
  },
  {
   "cell_type": "markdown",
   "metadata": {},
   "source": [
    "#### Centering data to zero-mean"
   ]
  },
  {
   "cell_type": "code",
   "execution_count": 23,
   "metadata": {},
   "outputs": [],
   "source": [
    "from sklearn.preprocessing import StandardScaler\n",
    "scaler = StandardScaler()\n",
    "X_train = scaler.fit_transform(X_train)\n",
    "X_holdout = scaler.transform(X_holdout)"
   ]
  },
  {
   "cell_type": "code",
   "execution_count": 24,
   "metadata": {},
   "outputs": [],
   "source": [
    "from sklearn.decomposition import PCA\n",
    "\n",
    "pca = PCA(n_components=2)  \n",
    "X_train = pca.fit_transform(X_train)  \n",
    "X_holdout  = pca.transform(X_holdout)  "
   ]
  },
  {
   "cell_type": "code",
   "execution_count": 25,
   "metadata": {},
   "outputs": [],
   "source": [
    "# pca.explained_variance_ratio_ "
   ]
  },
  {
   "cell_type": "code",
   "execution_count": 26,
   "metadata": {},
   "outputs": [
    {
     "data": {
      "text/plain": [
       "(14, 2)"
      ]
     },
     "execution_count": 26,
     "metadata": {},
     "output_type": "execute_result"
    }
   ],
   "source": [
    "X_train.shape"
   ]
  },
  {
   "cell_type": "markdown",
   "metadata": {},
   "source": [
    "### Сохраняем данные в pickle-файл"
   ]
  },
  {
   "cell_type": "code",
   "execution_count": 27,
   "metadata": {},
   "outputs": [],
   "source": [
    "import pickle"
   ]
  },
  {
   "cell_type": "code",
   "execution_count": 28,
   "metadata": {},
   "outputs": [],
   "source": [
    "with open('X_train.pickle', 'wb') as f:\n",
    "    pickle.dump(X_train, f)\n",
    "with open('y_train.pickle', 'wb') as f:\n",
    "    pickle.dump(y_train, f)"
   ]
  },
  {
   "cell_type": "code",
   "execution_count": 29,
   "metadata": {},
   "outputs": [],
   "source": [
    "with open('X_holdout.pickle', 'wb') as f:\n",
    "    pickle.dump(X_holdout, f)\n",
    "with open('y_holdout.pickle', 'wb') as f:\n",
    "    pickle.dump(y_holdout, f)"
   ]
  },
  {
   "cell_type": "code",
   "execution_count": null,
   "metadata": {},
   "outputs": [],
   "source": []
  }
 ],
 "metadata": {
  "kernelspec": {
   "display_name": "Python 3",
   "language": "python",
   "name": "python3"
  },
  "language_info": {
   "codemirror_mode": {
    "name": "ipython",
    "version": 3
   },
   "file_extension": ".py",
   "mimetype": "text/x-python",
   "name": "python",
   "nbconvert_exporter": "python",
   "pygments_lexer": "ipython3",
   "version": "3.6.8"
  }
 },
 "nbformat": 4,
 "nbformat_minor": 2
}
