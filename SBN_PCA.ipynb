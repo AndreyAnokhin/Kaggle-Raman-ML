{
 "cells": [
  {
   "cell_type": "code",
   "execution_count": 90,
   "metadata": {},
   "outputs": [],
   "source": [
    "import pandas as pd\n",
    "import numpy as np\n",
    "from sklearn.preprocessing import StandardScaler\n",
    "from sklearn.decomposition import PCA\n",
    "import matplotlib.pyplot as plt"
   ]
  },
  {
   "cell_type": "code",
   "execution_count": 91,
   "metadata": {},
   "outputs": [
    {
     "data": {
      "text/html": [
       "<div>\n",
       "<style scoped>\n",
       "    .dataframe tbody tr th:only-of-type {\n",
       "        vertical-align: middle;\n",
       "    }\n",
       "\n",
       "    .dataframe tbody tr th {\n",
       "        vertical-align: top;\n",
       "    }\n",
       "\n",
       "    .dataframe thead th {\n",
       "        text-align: right;\n",
       "    }\n",
       "</style>\n",
       "<table border=\"1\" class=\"dataframe\">\n",
       "  <thead>\n",
       "    <tr style=\"text-align: right;\">\n",
       "      <th></th>\n",
       "      <th>0</th>\n",
       "      <th>1</th>\n",
       "      <th>2</th>\n",
       "      <th>3</th>\n",
       "      <th>4</th>\n",
       "      <th>5</th>\n",
       "      <th>6</th>\n",
       "      <th>7</th>\n",
       "      <th>8</th>\n",
       "      <th>9</th>\n",
       "      <th>...</th>\n",
       "      <th>542</th>\n",
       "      <th>543</th>\n",
       "      <th>544</th>\n",
       "      <th>545</th>\n",
       "      <th>546</th>\n",
       "      <th>547</th>\n",
       "      <th>548</th>\n",
       "      <th>549</th>\n",
       "      <th>550</th>\n",
       "      <th>551</th>\n",
       "    </tr>\n",
       "  </thead>\n",
       "  <tbody>\n",
       "    <tr>\n",
       "      <th>0</th>\n",
       "      <td>300</td>\n",
       "      <td>449.055469</td>\n",
       "      <td>441.244192</td>\n",
       "      <td>498.055818</td>\n",
       "      <td>489.528183</td>\n",
       "      <td>515.200855</td>\n",
       "      <td>458.533248</td>\n",
       "      <td>384.820612</td>\n",
       "      <td>514.517550</td>\n",
       "      <td>487.394523</td>\n",
       "      <td>...</td>\n",
       "      <td>3931.038952</td>\n",
       "      <td>3842.094531</td>\n",
       "      <td>3614.893229</td>\n",
       "      <td>3518.864082</td>\n",
       "      <td>3307.659638</td>\n",
       "      <td>3235.237245</td>\n",
       "      <td>3036.645328</td>\n",
       "      <td>2860.778902</td>\n",
       "      <td>2618.900382</td>\n",
       "      <td>2338.872613</td>\n",
       "    </tr>\n",
       "    <tr>\n",
       "      <th>1</th>\n",
       "      <td>310</td>\n",
       "      <td>436.335973</td>\n",
       "      <td>459.601471</td>\n",
       "      <td>441.356111</td>\n",
       "      <td>452.613258</td>\n",
       "      <td>550.758365</td>\n",
       "      <td>558.877953</td>\n",
       "      <td>601.099381</td>\n",
       "      <td>585.954823</td>\n",
       "      <td>660.681847</td>\n",
       "      <td>...</td>\n",
       "      <td>7032.829189</td>\n",
       "      <td>6833.235065</td>\n",
       "      <td>6526.799937</td>\n",
       "      <td>6202.975008</td>\n",
       "      <td>6000.644480</td>\n",
       "      <td>5823.230486</td>\n",
       "      <td>5508.370669</td>\n",
       "      <td>5154.405264</td>\n",
       "      <td>4720.107584</td>\n",
       "      <td>4205.127147</td>\n",
       "    </tr>\n",
       "    <tr>\n",
       "      <th>2</th>\n",
       "      <td>320</td>\n",
       "      <td>278.758442</td>\n",
       "      <td>399.697189</td>\n",
       "      <td>455.825868</td>\n",
       "      <td>508.812565</td>\n",
       "      <td>495.154616</td>\n",
       "      <td>510.926216</td>\n",
       "      <td>481.811614</td>\n",
       "      <td>658.519417</td>\n",
       "      <td>533.463816</td>\n",
       "      <td>...</td>\n",
       "      <td>6969.965506</td>\n",
       "      <td>6844.842414</td>\n",
       "      <td>6486.206070</td>\n",
       "      <td>6308.961011</td>\n",
       "      <td>6034.862659</td>\n",
       "      <td>5858.896421</td>\n",
       "      <td>5546.318038</td>\n",
       "      <td>5155.890600</td>\n",
       "      <td>4730.268070</td>\n",
       "      <td>4232.430961</td>\n",
       "    </tr>\n",
       "    <tr>\n",
       "      <th>3</th>\n",
       "      <td>330</td>\n",
       "      <td>295.516306</td>\n",
       "      <td>314.063557</td>\n",
       "      <td>388.574218</td>\n",
       "      <td>329.990967</td>\n",
       "      <td>339.505268</td>\n",
       "      <td>457.221352</td>\n",
       "      <td>443.500599</td>\n",
       "      <td>320.130716</td>\n",
       "      <td>528.831785</td>\n",
       "      <td>...</td>\n",
       "      <td>6877.581230</td>\n",
       "      <td>6684.905461</td>\n",
       "      <td>6407.330901</td>\n",
       "      <td>6249.693841</td>\n",
       "      <td>5883.416496</td>\n",
       "      <td>5775.553655</td>\n",
       "      <td>5425.677398</td>\n",
       "      <td>5159.773345</td>\n",
       "      <td>4680.337790</td>\n",
       "      <td>4188.152753</td>\n",
       "    </tr>\n",
       "    <tr>\n",
       "      <th>4</th>\n",
       "      <td>340</td>\n",
       "      <td>373.388268</td>\n",
       "      <td>294.537897</td>\n",
       "      <td>361.416489</td>\n",
       "      <td>417.441949</td>\n",
       "      <td>425.577114</td>\n",
       "      <td>365.827936</td>\n",
       "      <td>426.429821</td>\n",
       "      <td>440.730123</td>\n",
       "      <td>561.357658</td>\n",
       "      <td>...</td>\n",
       "      <td>5466.831780</td>\n",
       "      <td>5282.264408</td>\n",
       "      <td>5055.631879</td>\n",
       "      <td>4927.051884</td>\n",
       "      <td>4703.270319</td>\n",
       "      <td>4602.689358</td>\n",
       "      <td>4248.626582</td>\n",
       "      <td>4065.856823</td>\n",
       "      <td>3755.967433</td>\n",
       "      <td>3370.030867</td>\n",
       "    </tr>\n",
       "  </tbody>\n",
       "</table>\n",
       "<p>5 rows × 552 columns</p>\n",
       "</div>"
      ],
      "text/plain": [
       "   0           1           2           3           4           5    \\\n",
       "0  300  449.055469  441.244192  498.055818  489.528183  515.200855   \n",
       "1  310  436.335973  459.601471  441.356111  452.613258  550.758365   \n",
       "2  320  278.758442  399.697189  455.825868  508.812565  495.154616   \n",
       "3  330  295.516306  314.063557  388.574218  329.990967  339.505268   \n",
       "4  340  373.388268  294.537897  361.416489  417.441949  425.577114   \n",
       "\n",
       "          6           7           8           9    ...          542  \\\n",
       "0  458.533248  384.820612  514.517550  487.394523  ...  3931.038952   \n",
       "1  558.877953  601.099381  585.954823  660.681847  ...  7032.829189   \n",
       "2  510.926216  481.811614  658.519417  533.463816  ...  6969.965506   \n",
       "3  457.221352  443.500599  320.130716  528.831785  ...  6877.581230   \n",
       "4  365.827936  426.429821  440.730123  561.357658  ...  5466.831780   \n",
       "\n",
       "           543          544          545          546          547  \\\n",
       "0  3842.094531  3614.893229  3518.864082  3307.659638  3235.237245   \n",
       "1  6833.235065  6526.799937  6202.975008  6000.644480  5823.230486   \n",
       "2  6844.842414  6486.206070  6308.961011  6034.862659  5858.896421   \n",
       "3  6684.905461  6407.330901  6249.693841  5883.416496  5775.553655   \n",
       "4  5282.264408  5055.631879  4927.051884  4703.270319  4602.689358   \n",
       "\n",
       "           548          549          550          551  \n",
       "0  3036.645328  2860.778902  2618.900382  2338.872613  \n",
       "1  5508.370669  5154.405264  4720.107584  4205.127147  \n",
       "2  5546.318038  5155.890600  4730.268070  4232.430961  \n",
       "3  5425.677398  5159.773345  4680.337790  4188.152753  \n",
       "4  4248.626582  4065.856823  3755.967433  3370.030867  \n",
       "\n",
       "[5 rows x 552 columns]"
      ]
     },
     "execution_count": 91,
     "metadata": {},
     "output_type": "execute_result"
    }
   ],
   "source": [
    "df = pd.read_csv('SBN-Pt-Si.csv', header=-1)\n",
    "df.head()"
   ]
  },
  {
   "cell_type": "code",
   "execution_count": 92,
   "metadata": {},
   "outputs": [],
   "source": [
    "# Температуры\n",
    "y = df[0]"
   ]
  },
  {
   "cell_type": "code",
   "execution_count": 93,
   "metadata": {},
   "outputs": [
    {
     "data": {
      "text/html": [
       "<div>\n",
       "<style scoped>\n",
       "    .dataframe tbody tr th:only-of-type {\n",
       "        vertical-align: middle;\n",
       "    }\n",
       "\n",
       "    .dataframe tbody tr th {\n",
       "        vertical-align: top;\n",
       "    }\n",
       "\n",
       "    .dataframe thead th {\n",
       "        text-align: right;\n",
       "    }\n",
       "</style>\n",
       "<table border=\"1\" class=\"dataframe\">\n",
       "  <thead>\n",
       "    <tr style=\"text-align: right;\">\n",
       "      <th></th>\n",
       "      <th>1</th>\n",
       "      <th>2</th>\n",
       "      <th>3</th>\n",
       "      <th>4</th>\n",
       "      <th>5</th>\n",
       "      <th>6</th>\n",
       "      <th>7</th>\n",
       "      <th>8</th>\n",
       "      <th>9</th>\n",
       "      <th>10</th>\n",
       "      <th>...</th>\n",
       "      <th>542</th>\n",
       "      <th>543</th>\n",
       "      <th>544</th>\n",
       "      <th>545</th>\n",
       "      <th>546</th>\n",
       "      <th>547</th>\n",
       "      <th>548</th>\n",
       "      <th>549</th>\n",
       "      <th>550</th>\n",
       "      <th>551</th>\n",
       "    </tr>\n",
       "  </thead>\n",
       "  <tbody>\n",
       "    <tr>\n",
       "      <th>0</th>\n",
       "      <td>449.055469</td>\n",
       "      <td>441.244192</td>\n",
       "      <td>498.055818</td>\n",
       "      <td>489.528183</td>\n",
       "      <td>515.200855</td>\n",
       "      <td>458.533248</td>\n",
       "      <td>384.820612</td>\n",
       "      <td>514.517550</td>\n",
       "      <td>487.394523</td>\n",
       "      <td>587.504075</td>\n",
       "      <td>...</td>\n",
       "      <td>3931.038952</td>\n",
       "      <td>3842.094531</td>\n",
       "      <td>3614.893229</td>\n",
       "      <td>3518.864082</td>\n",
       "      <td>3307.659638</td>\n",
       "      <td>3235.237245</td>\n",
       "      <td>3036.645328</td>\n",
       "      <td>2860.778902</td>\n",
       "      <td>2618.900382</td>\n",
       "      <td>2338.872613</td>\n",
       "    </tr>\n",
       "    <tr>\n",
       "      <th>1</th>\n",
       "      <td>436.335973</td>\n",
       "      <td>459.601471</td>\n",
       "      <td>441.356111</td>\n",
       "      <td>452.613258</td>\n",
       "      <td>550.758365</td>\n",
       "      <td>558.877953</td>\n",
       "      <td>601.099381</td>\n",
       "      <td>585.954823</td>\n",
       "      <td>660.681847</td>\n",
       "      <td>630.044405</td>\n",
       "      <td>...</td>\n",
       "      <td>7032.829189</td>\n",
       "      <td>6833.235065</td>\n",
       "      <td>6526.799937</td>\n",
       "      <td>6202.975008</td>\n",
       "      <td>6000.644480</td>\n",
       "      <td>5823.230486</td>\n",
       "      <td>5508.370669</td>\n",
       "      <td>5154.405264</td>\n",
       "      <td>4720.107584</td>\n",
       "      <td>4205.127147</td>\n",
       "    </tr>\n",
       "    <tr>\n",
       "      <th>2</th>\n",
       "      <td>278.758442</td>\n",
       "      <td>399.697189</td>\n",
       "      <td>455.825868</td>\n",
       "      <td>508.812565</td>\n",
       "      <td>495.154616</td>\n",
       "      <td>510.926216</td>\n",
       "      <td>481.811614</td>\n",
       "      <td>658.519417</td>\n",
       "      <td>533.463816</td>\n",
       "      <td>626.534514</td>\n",
       "      <td>...</td>\n",
       "      <td>6969.965506</td>\n",
       "      <td>6844.842414</td>\n",
       "      <td>6486.206070</td>\n",
       "      <td>6308.961011</td>\n",
       "      <td>6034.862659</td>\n",
       "      <td>5858.896421</td>\n",
       "      <td>5546.318038</td>\n",
       "      <td>5155.890600</td>\n",
       "      <td>4730.268070</td>\n",
       "      <td>4232.430961</td>\n",
       "    </tr>\n",
       "    <tr>\n",
       "      <th>3</th>\n",
       "      <td>295.516306</td>\n",
       "      <td>314.063557</td>\n",
       "      <td>388.574218</td>\n",
       "      <td>329.990967</td>\n",
       "      <td>339.505268</td>\n",
       "      <td>457.221352</td>\n",
       "      <td>443.500599</td>\n",
       "      <td>320.130716</td>\n",
       "      <td>528.831785</td>\n",
       "      <td>431.775857</td>\n",
       "      <td>...</td>\n",
       "      <td>6877.581230</td>\n",
       "      <td>6684.905461</td>\n",
       "      <td>6407.330901</td>\n",
       "      <td>6249.693841</td>\n",
       "      <td>5883.416496</td>\n",
       "      <td>5775.553655</td>\n",
       "      <td>5425.677398</td>\n",
       "      <td>5159.773345</td>\n",
       "      <td>4680.337790</td>\n",
       "      <td>4188.152753</td>\n",
       "    </tr>\n",
       "    <tr>\n",
       "      <th>4</th>\n",
       "      <td>373.388268</td>\n",
       "      <td>294.537897</td>\n",
       "      <td>361.416489</td>\n",
       "      <td>417.441949</td>\n",
       "      <td>425.577114</td>\n",
       "      <td>365.827936</td>\n",
       "      <td>426.429821</td>\n",
       "      <td>440.730123</td>\n",
       "      <td>561.357658</td>\n",
       "      <td>609.491595</td>\n",
       "      <td>...</td>\n",
       "      <td>5466.831780</td>\n",
       "      <td>5282.264408</td>\n",
       "      <td>5055.631879</td>\n",
       "      <td>4927.051884</td>\n",
       "      <td>4703.270319</td>\n",
       "      <td>4602.689358</td>\n",
       "      <td>4248.626582</td>\n",
       "      <td>4065.856823</td>\n",
       "      <td>3755.967433</td>\n",
       "      <td>3370.030867</td>\n",
       "    </tr>\n",
       "  </tbody>\n",
       "</table>\n",
       "<p>5 rows × 551 columns</p>\n",
       "</div>"
      ],
      "text/plain": [
       "          1           2           3           4           5           6    \\\n",
       "0  449.055469  441.244192  498.055818  489.528183  515.200855  458.533248   \n",
       "1  436.335973  459.601471  441.356111  452.613258  550.758365  558.877953   \n",
       "2  278.758442  399.697189  455.825868  508.812565  495.154616  510.926216   \n",
       "3  295.516306  314.063557  388.574218  329.990967  339.505268  457.221352   \n",
       "4  373.388268  294.537897  361.416489  417.441949  425.577114  365.827936   \n",
       "\n",
       "          7           8           9           10   ...          542  \\\n",
       "0  384.820612  514.517550  487.394523  587.504075  ...  3931.038952   \n",
       "1  601.099381  585.954823  660.681847  630.044405  ...  7032.829189   \n",
       "2  481.811614  658.519417  533.463816  626.534514  ...  6969.965506   \n",
       "3  443.500599  320.130716  528.831785  431.775857  ...  6877.581230   \n",
       "4  426.429821  440.730123  561.357658  609.491595  ...  5466.831780   \n",
       "\n",
       "           543          544          545          546          547  \\\n",
       "0  3842.094531  3614.893229  3518.864082  3307.659638  3235.237245   \n",
       "1  6833.235065  6526.799937  6202.975008  6000.644480  5823.230486   \n",
       "2  6844.842414  6486.206070  6308.961011  6034.862659  5858.896421   \n",
       "3  6684.905461  6407.330901  6249.693841  5883.416496  5775.553655   \n",
       "4  5282.264408  5055.631879  4927.051884  4703.270319  4602.689358   \n",
       "\n",
       "           548          549          550          551  \n",
       "0  3036.645328  2860.778902  2618.900382  2338.872613  \n",
       "1  5508.370669  5154.405264  4720.107584  4205.127147  \n",
       "2  5546.318038  5155.890600  4730.268070  4232.430961  \n",
       "3  5425.677398  5159.773345  4680.337790  4188.152753  \n",
       "4  4248.626582  4065.856823  3755.967433  3370.030867  \n",
       "\n",
       "[5 rows x 551 columns]"
      ]
     },
     "execution_count": 93,
     "metadata": {},
     "output_type": "execute_result"
    }
   ],
   "source": [
    "df1 = df.drop([0], axis=1)\n",
    "df1.head()"
   ]
  },
  {
   "cell_type": "code",
   "execution_count": 94,
   "metadata": {},
   "outputs": [],
   "source": [
    "X_std = StandardScaler().fit_transform(df1)"
   ]
  },
  {
   "cell_type": "code",
   "execution_count": 95,
   "metadata": {},
   "outputs": [
    {
     "data": {
      "text/plain": [
       "array([[ 2.54729192,  2.39229399,  2.09599839, ...,  0.5512367 ,\n",
       "         0.53083031,  0.53913761],\n",
       "       [ 2.40232379,  2.59899269,  1.56425814, ...,  2.52931354,\n",
       "         2.52047122,  2.52865031],\n",
       "       [ 0.60636279,  1.92448436,  1.69995818, ...,  2.53059453,\n",
       "         2.53009222,  2.55775742],\n",
       "       ...,\n",
       "       [-0.29373155, -1.27190425, -1.09360947, ..., -1.12399461,\n",
       "        -1.11485336, -1.11248525],\n",
       "       [ 0.16199615, -0.81781288, -0.73268934, ..., -0.56767932,\n",
       "        -0.54150999, -0.5275456 ],\n",
       "       [ 0.74982593,  0.6874978 ,  0.21309555, ..., -0.7230567 ,\n",
       "        -0.71785807, -0.68597816]])"
      ]
     },
     "execution_count": 95,
     "metadata": {},
     "output_type": "execute_result"
    }
   ],
   "source": [
    "X_std"
   ]
  },
  {
   "cell_type": "code",
   "execution_count": 96,
   "metadata": {},
   "outputs": [],
   "source": [
    "mean_vec = np.mean(X_std, axis=0)"
   ]
  },
  {
   "cell_type": "code",
   "execution_count": 97,
   "metadata": {},
   "outputs": [
    {
     "name": "stdout",
     "output_type": "stream",
     "text": [
      "Covariance matrix \n",
      "[[1.025      0.79337792 0.75254414 ... 0.68620848 0.68738109 0.68525945]\n",
      " [0.79337792 1.025      0.85270353 ... 0.76047116 0.75866311 0.7586409 ]\n",
      " [0.75254414 0.85270353 1.025      ... 0.67536695 0.66975515 0.66906997]\n",
      " ...\n",
      " [0.68620848 0.76047116 0.67536695 ... 1.025      1.02479878 1.02455525]\n",
      " [0.68738109 0.75866311 0.66975515 ... 1.02479878 1.025      1.02463245]\n",
      " [0.68525945 0.7586409  0.66906997 ... 1.02455525 1.02463245 1.025     ]]\n"
     ]
    }
   ],
   "source": [
    "cov_mat = (X_std - mean_vec).T.dot((X_std - mean_vec)) / (X_std.shape[0]-1)\n",
    "print('Covariance matrix \\n%s' %cov_mat)"
   ]
  },
  {
   "cell_type": "code",
   "execution_count": 98,
   "metadata": {},
   "outputs": [],
   "source": [
    "#Perform eigendecomposition on covariance matrix\n",
    "cov_mat = np.cov(X_std.T)\n",
    "eig_vals, eig_vecs = np.linalg.eig(cov_mat)\n",
    "# print('Eigenvectors \\n%s' %eig_vecs)\n",
    "# print('\\nEigenvalues \\n%s' %eig_vals)"
   ]
  },
  {
   "cell_type": "code",
   "execution_count": 99,
   "metadata": {},
   "outputs": [],
   "source": [
    "# Visually confirm that the list is correctly sorted by decreasing eigenvalues\n",
    "# eig_pairs = [(np.abs(eig_vals[i]), eig_vecs[:,i]) for i in range(len(eig_vals))]\n",
    "# print('Eigenvalues in descending order:')\n",
    "# for i in eig_pairs:\n",
    "#     print(i[0])"
   ]
  },
  {
   "cell_type": "code",
   "execution_count": 100,
   "metadata": {},
   "outputs": [
    {
     "name": "stdout",
     "output_type": "stream",
     "text": [
      "[0.98245136 0.01014669]\n"
     ]
    }
   ],
   "source": [
    "pca = PCA(n_components=2)\n",
    "X_reduced =pca.fit_transform(df1)\n",
    "print(pca.explained_variance_ratio_)"
   ]
  },
  {
   "cell_type": "code",
   "execution_count": 101,
   "metadata": {},
   "outputs": [
    {
     "data": {
      "image/png": "[encoded data removed]",
      "text/plain": [
       "<Figure size 432x288 with 1 Axes>"
      ]
     },
     "metadata": {
      "needs_background": "light"
     },
     "output_type": "display_data"
    }
   ],
   "source": [
    "#Explained variance\n",
    "pca = PCA().fit(X_std)\n",
    "plt.plot(np.cumsum(pca.explained_variance_ratio_))\n",
    "plt.xlabel('number of components')\n",
    "plt.ylabel('cumulative explained variance')\n",
    "plt.show()"
   ]
  },
  {
   "cell_type": "code",
   "execution_count": 102,
   "metadata": {},
   "outputs": [
    {
     "data": {
      "text/plain": [
       "array([[17685.55247283,  5004.83388699]])"
      ]
     },
     "execution_count": 102,
     "metadata": {},
     "output_type": "execute_result"
    }
   ],
   "source": [
    "X_reduced[y == 300]"
   ]
  },
  {
   "cell_type": "code",
   "execution_count": 103,
   "metadata": {},
   "outputs": [
    {
     "data": {
      "image/png": "[encoded data removed]",
      "text/plain": [
       "<Figure size 576x576 with 1 Axes>"
      ]
     },
     "metadata": {
      "needs_background": "light"
     },
     "output_type": "display_data"
    }
   ],
   "source": [
    "x = X_reduced[:, 0]\n",
    "y = X_reduced[:, 1]\n",
    "label = range(300, 710, 10)\n",
    "\n",
    "fig, ax = plt.subplots(figsize=(8,8))\n",
    "ax.scatter(y, x)\n",
    "\n",
    "for i, txt in enumerate(label):\n",
    "    ax.annotate(txt, (y[i], x[i]))\n"
   ]
  },
  {
   "cell_type": "code",
   "execution_count": null,
   "metadata": {},
   "outputs": [],
   "source": []
  }
 ],
 "metadata": {
  "kernelspec": {
   "display_name": "Python 3",
   "language": "python",
   "name": "python3"
  },
  "language_info": {
   "codemirror_mode": {
    "name": "ipython",
    "version": 3
   },
   "file_extension": ".py",
   "mimetype": "text/x-python",
   "name": "python",
   "nbconvert_exporter": "python",
   "pygments_lexer": "ipython3",
   "version": "3.6.8"
  }
 },
 "nbformat": 4,
 "nbformat_minor": 2
}
